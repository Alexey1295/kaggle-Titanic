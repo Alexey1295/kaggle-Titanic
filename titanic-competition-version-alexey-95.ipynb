{
 "cells": [
  {
   "cell_type": "markdown",
   "id": "matched-vehicle",
   "metadata": {
    "_cell_guid": "b1076dfc-b9ad-4769-8c92-a6c4dae69d19",
    "_uuid": "8f2839f25d086af736a60e9eeb907d3b93b6e0e5",
    "papermill": {
     "duration": 0.056208,
     "end_time": "2021-04-26T03:59:06.771716",
     "exception": false,
     "start_time": "2021-04-26T03:59:06.715508",
     "status": "completed"
    },
    "tags": []
   },
   "source": [
    "# Titanic - Machine Learning from Disaster"
   ]
  },
  {
   "cell_type": "markdown",
   "id": "african-medline",
   "metadata": {
    "papermill": {
     "duration": 0.054946,
     "end_time": "2021-04-26T03:59:06.882005",
     "exception": false,
     "start_time": "2021-04-26T03:59:06.827059",
     "status": "completed"
    },
    "tags": []
   },
   "source": [
    "# Import"
   ]
  },
  {
   "cell_type": "code",
   "execution_count": 1,
   "id": "breeding-pacific",
   "metadata": {
    "execution": {
     "iopub.execute_input": "2021-04-26T03:59:06.997883Z",
     "iopub.status.busy": "2021-04-26T03:59:06.996630Z",
     "iopub.status.idle": "2021-04-26T03:59:08.281572Z",
     "shell.execute_reply": "2021-04-26T03:59:08.282139Z"
    },
    "papermill": {
     "duration": 1.344343,
     "end_time": "2021-04-26T03:59:08.282439",
     "exception": false,
     "start_time": "2021-04-26T03:59:06.938096",
     "status": "completed"
    },
    "tags": []
   },
   "outputs": [
    {
     "name": "stdout",
     "output_type": "stream",
     "text": [
      "/kaggle/input/titanic/train.csv\n",
      "/kaggle/input/titanic/test.csv\n",
      "/kaggle/input/titanic/gender_submission.csv\n"
     ]
    }
   ],
   "source": [
    "from pandas import Series \n",
    "import pandas as pd\n",
    "import numpy as np\n",
    "\n",
    "import matplotlib.pyplot as plt\n",
    "import seaborn as sns\n",
    "\n",
    "from sklearn.feature_selection import f_classif, mutual_info_classif\n",
    "from sklearn.preprocessing import LabelEncoder, OneHotEncoder\n",
    "\n",
    "from sklearn.model_selection import train_test_split\n",
    "from sklearn.linear_model import LogisticRegression\n",
    "from sklearn.ensemble import RandomForestClassifier\n",
    "\n",
    "from sklearn.metrics import confusion_matrix, auc, roc_auc_score, roc_curve\n",
    "from sklearn.metrics import accuracy_score, precision_score, recall_score, f1_score\n",
    "\n",
    "import re\n",
    "\n",
    "import warnings\n",
    "warnings.filterwarnings(\"ignore\") \n",
    "\n",
    "import os\n",
    "for dirname, _, filenames in os.walk('/kaggle/input'):\n",
    "    for filename in filenames:\n",
    "        print(os.path.join(dirname, filename))"
   ]
  },
  {
   "cell_type": "code",
   "execution_count": 2,
   "id": "noble-sarah",
   "metadata": {
    "execution": {
     "iopub.execute_input": "2021-04-26T03:59:08.399906Z",
     "iopub.status.busy": "2021-04-26T03:59:08.399308Z",
     "iopub.status.idle": "2021-04-26T03:59:11.093055Z",
     "shell.execute_reply": "2021-04-26T03:59:11.092460Z"
    },
    "papermill": {
     "duration": 2.753589,
     "end_time": "2021-04-26T03:59:11.093198",
     "exception": false,
     "start_time": "2021-04-26T03:59:08.339609",
     "status": "completed"
    },
    "tags": []
   },
   "outputs": [],
   "source": [
    "#fix the package versions so that the experiments are reproducible\n",
    "!pip freeze > requirements.txt"
   ]
  },
  {
   "cell_type": "code",
   "execution_count": 3,
   "id": "hispanic-appearance",
   "metadata": {
    "execution": {
     "iopub.execute_input": "2021-04-26T03:59:11.211745Z",
     "iopub.status.busy": "2021-04-26T03:59:11.211063Z",
     "iopub.status.idle": "2021-04-26T03:59:11.245360Z",
     "shell.execute_reply": "2021-04-26T03:59:11.244699Z"
    },
    "papermill": {
     "duration": 0.096238,
     "end_time": "2021-04-26T03:59:11.245512",
     "exception": false,
     "start_time": "2021-04-26T03:59:11.149274",
     "status": "completed"
    },
    "tags": []
   },
   "outputs": [],
   "source": [
    "train = pd.read_csv('/kaggle/input/titanic/train.csv')\n",
    "test= pd.read_csv('/kaggle/input/titanic/test.csv')\n",
    "gender_submission = pd.read_csv('/kaggle/input/titanic/gender_submission.csv')"
   ]
  },
  {
   "cell_type": "markdown",
   "id": "matched-sequence",
   "metadata": {
    "papermill": {
     "duration": 0.05557,
     "end_time": "2021-04-26T03:59:11.357623",
     "exception": false,
     "start_time": "2021-04-26T03:59:11.302053",
     "status": "completed"
    },
    "tags": []
   },
   "source": [
    "# Description functions"
   ]
  },
  {
   "cell_type": "code",
   "execution_count": 4,
   "id": "associate-design",
   "metadata": {
    "execution": {
     "iopub.execute_input": "2021-04-26T03:59:11.473492Z",
     "iopub.status.busy": "2021-04-26T03:59:11.472861Z",
     "iopub.status.idle": "2021-04-26T03:59:11.483121Z",
     "shell.execute_reply": "2021-04-26T03:59:11.483602Z"
    },
    "papermill": {
     "duration": 0.070138,
     "end_time": "2021-04-26T03:59:11.483775",
     "exception": false,
     "start_time": "2021-04-26T03:59:11.413637",
     "status": "completed"
    },
    "tags": []
   },
   "outputs": [],
   "source": [
    "#Function for rendering confusion_matrix\n",
    "def show_confusion_matrix(y_true, y_pred):\n",
    "    color_text = plt.get_cmap('PuBu')(0.95)\n",
    "    class_names = ['Default', 'Non-Default']\n",
    "    cm = confusion_matrix(y_true, y_pred)\n",
    "    cm[0,0], cm[1,1] = cm[1,1], cm[0,0]\n",
    "    df = pd.DataFrame(cm, index=class_names, columns=class_names)\n",
    "    \n",
    "    fig, ax = plt.subplots(figsize=(6, 6))\n",
    "    ax.set(xticks=np.arange(cm.shape[1]), yticks=np.arange(cm.shape[0]), title=\"Confusion Matrix\")\n",
    "    ax.title.set_fontsize(15)\n",
    "    sns.heatmap(df, square=True, annot=True, fmt=\"d\", linewidths=1, cmap=\"PuBu\")\n",
    "    plt.setp(ax.get_yticklabels(), rotation=0, ha=\"right\", rotation_mode=\"anchor\", fontsize=12)\n",
    "    plt.setp(ax.get_xticklabels(), rotation=0, ha=\"center\", rotation_mode=\"anchor\", fontsize=12)\n",
    "    ax.set_ylabel('Predicted Values', fontsize=14, color = color_text)\n",
    "    ax.set_xlabel('Real Values', fontsize=14, color = color_text)\n",
    "    b, t = plt.ylim()\n",
    "    plt.ylim(b+0.5, t-0.5)\n",
    "    fig.tight_layout()\n",
    "    plt.show()"
   ]
  },
  {
   "cell_type": "code",
   "execution_count": 5,
   "id": "closing-thought",
   "metadata": {
    "execution": {
     "iopub.execute_input": "2021-04-26T03:59:11.599014Z",
     "iopub.status.busy": "2021-04-26T03:59:11.598390Z",
     "iopub.status.idle": "2021-04-26T03:59:11.609693Z",
     "shell.execute_reply": "2021-04-26T03:59:11.610296Z"
    },
    "papermill": {
     "duration": 0.070467,
     "end_time": "2021-04-26T03:59:11.610466",
     "exception": false,
     "start_time": "2021-04-26T03:59:11.539999",
     "status": "completed"
    },
    "tags": []
   },
   "outputs": [],
   "source": [
    "#Function for displaying metrics for assessing the quality of the model\n",
    "def all_metrics(y_true, y_pred, y_pred_prob):\n",
    "    dict_metric = {}\n",
    "    P = np.sum(y_true==1)\n",
    "    N = np.sum(y_true==0)\n",
    "    TP = np.sum((y_true==1)&(y_pred==1))\n",
    "    TN = np.sum((y_true==0)&(y_pred==0))\n",
    "    FP = np.sum((y_true==0)&(y_pred==1))\n",
    "    FN = np.sum((y_true==1)&(y_pred==0))\n",
    "    \n",
    "    dict_metric['Positive, P'] = [P,'default']\n",
    "    dict_metric['Negative, N'] = [N,'non-default']\n",
    "    dict_metric['True Positive, TP'] = [TP,'correctly identified default']\n",
    "    dict_metric['True Negative, TN'] = [TN,'correctly identified non-default']\n",
    "    dict_metric['False Positive, FP'] = [FP,'incorrectly identified default']\n",
    "    dict_metric['False Negative, FN'] = [FN,'incorrectly identified non-default']\n",
    "    dict_metric['Accuracy'] = [accuracy_score(y_true, y_pred),'Accuracy=(TP+TN)/(P+N)']\n",
    "    dict_metric['Precision'] = [precision_score(y_true, y_pred),'Precision = TP/(TP+FP)'] \n",
    "    dict_metric['Recall'] = [recall_score(y_true, y_pred),'Recall = TP/P']\n",
    "    dict_metric['F1-score'] = [f1_score(y_true, y_pred),'Harmonical mean of Precision и Recall']\n",
    "    dict_metric['ROC_AUC'] = [roc_auc_score(y_true, y_pred_prob),'ROC AUC Score']    \n",
    "\n",
    "    temp_df = pd.DataFrame.from_dict(dict_metric, orient='index', columns=['Value', 'Description'])\n",
    "    display(temp_df) "
   ]
  },
  {
   "cell_type": "markdown",
   "id": "bright-oriental",
   "metadata": {
    "papermill": {
     "duration": 0.05585,
     "end_time": "2021-04-26T03:59:11.722364",
     "exception": false,
     "start_time": "2021-04-26T03:59:11.666514",
     "status": "completed"
    },
    "tags": []
   },
   "source": [
    "# Data"
   ]
  },
  {
   "cell_type": "code",
   "execution_count": 6,
   "id": "steady-singapore",
   "metadata": {
    "execution": {
     "iopub.execute_input": "2021-04-26T03:59:11.839739Z",
     "iopub.status.busy": "2021-04-26T03:59:11.839128Z",
     "iopub.status.idle": "2021-04-26T03:59:11.874187Z",
     "shell.execute_reply": "2021-04-26T03:59:11.874708Z"
    },
    "papermill": {
     "duration": 0.095807,
     "end_time": "2021-04-26T03:59:11.874873",
     "exception": false,
     "start_time": "2021-04-26T03:59:11.779066",
     "status": "completed"
    },
    "tags": []
   },
   "outputs": [
    {
     "data": {
      "text/html": [
       "<div>\n",
       "<style scoped>\n",
       "    .dataframe tbody tr th:only-of-type {\n",
       "        vertical-align: middle;\n",
       "    }\n",
       "\n",
       "    .dataframe tbody tr th {\n",
       "        vertical-align: top;\n",
       "    }\n",
       "\n",
       "    .dataframe thead th {\n",
       "        text-align: right;\n",
       "    }\n",
       "</style>\n",
       "<table border=\"1\" class=\"dataframe\">\n",
       "  <thead>\n",
       "    <tr style=\"text-align: right;\">\n",
       "      <th></th>\n",
       "      <th>PassengerId</th>\n",
       "      <th>Survived</th>\n",
       "      <th>Pclass</th>\n",
       "      <th>Name</th>\n",
       "      <th>Sex</th>\n",
       "      <th>Age</th>\n",
       "      <th>SibSp</th>\n",
       "      <th>Parch</th>\n",
       "      <th>Ticket</th>\n",
       "      <th>Fare</th>\n",
       "      <th>Cabin</th>\n",
       "      <th>Embarked</th>\n",
       "    </tr>\n",
       "  </thead>\n",
       "  <tbody>\n",
       "    <tr>\n",
       "      <th>291</th>\n",
       "      <td>292</td>\n",
       "      <td>1</td>\n",
       "      <td>1</td>\n",
       "      <td>Bishop, Mrs. Dickinson H (Helen Walton)</td>\n",
       "      <td>female</td>\n",
       "      <td>19.0</td>\n",
       "      <td>1</td>\n",
       "      <td>0</td>\n",
       "      <td>11967</td>\n",
       "      <td>91.0792</td>\n",
       "      <td>B49</td>\n",
       "      <td>C</td>\n",
       "    </tr>\n",
       "    <tr>\n",
       "      <th>50</th>\n",
       "      <td>51</td>\n",
       "      <td>0</td>\n",
       "      <td>3</td>\n",
       "      <td>Panula, Master. Juha Niilo</td>\n",
       "      <td>male</td>\n",
       "      <td>7.0</td>\n",
       "      <td>4</td>\n",
       "      <td>1</td>\n",
       "      <td>3101295</td>\n",
       "      <td>39.6875</td>\n",
       "      <td>NaN</td>\n",
       "      <td>S</td>\n",
       "    </tr>\n",
       "    <tr>\n",
       "      <th>332</th>\n",
       "      <td>333</td>\n",
       "      <td>0</td>\n",
       "      <td>1</td>\n",
       "      <td>Graham, Mr. George Edward</td>\n",
       "      <td>male</td>\n",
       "      <td>38.0</td>\n",
       "      <td>0</td>\n",
       "      <td>1</td>\n",
       "      <td>PC 17582</td>\n",
       "      <td>153.4625</td>\n",
       "      <td>C91</td>\n",
       "      <td>S</td>\n",
       "    </tr>\n",
       "    <tr>\n",
       "      <th>847</th>\n",
       "      <td>848</td>\n",
       "      <td>0</td>\n",
       "      <td>3</td>\n",
       "      <td>Markoff, Mr. Marin</td>\n",
       "      <td>male</td>\n",
       "      <td>35.0</td>\n",
       "      <td>0</td>\n",
       "      <td>0</td>\n",
       "      <td>349213</td>\n",
       "      <td>7.8958</td>\n",
       "      <td>NaN</td>\n",
       "      <td>C</td>\n",
       "    </tr>\n",
       "    <tr>\n",
       "      <th>511</th>\n",
       "      <td>512</td>\n",
       "      <td>0</td>\n",
       "      <td>3</td>\n",
       "      <td>Webber, Mr. James</td>\n",
       "      <td>male</td>\n",
       "      <td>NaN</td>\n",
       "      <td>0</td>\n",
       "      <td>0</td>\n",
       "      <td>SOTON/OQ 3101316</td>\n",
       "      <td>8.0500</td>\n",
       "      <td>NaN</td>\n",
       "      <td>S</td>\n",
       "    </tr>\n",
       "  </tbody>\n",
       "</table>\n",
       "</div>"
      ],
      "text/plain": [
       "     PassengerId  Survived  Pclass                                     Name  \\\n",
       "291          292         1       1  Bishop, Mrs. Dickinson H (Helen Walton)   \n",
       "50            51         0       3               Panula, Master. Juha Niilo   \n",
       "332          333         0       1                Graham, Mr. George Edward   \n",
       "847          848         0       3                       Markoff, Mr. Marin   \n",
       "511          512         0       3                        Webber, Mr. James   \n",
       "\n",
       "        Sex   Age  SibSp  Parch            Ticket      Fare Cabin Embarked  \n",
       "291  female  19.0      1      0             11967   91.0792   B49        C  \n",
       "50     male   7.0      4      1           3101295   39.6875   NaN        S  \n",
       "332    male  38.0      0      1          PC 17582  153.4625   C91        S  \n",
       "847    male  35.0      0      0            349213    7.8958   NaN        C  \n",
       "511    male   NaN      0      0  SOTON/OQ 3101316    8.0500   NaN        S  "
      ]
     },
     "execution_count": 6,
     "metadata": {},
     "output_type": "execute_result"
    }
   ],
   "source": [
    "#Let's take a look at 5 random lines of training base\n",
    "train.sample(5)"
   ]
  },
  {
   "cell_type": "code",
   "execution_count": 7,
   "id": "protective-lying",
   "metadata": {
    "execution": {
     "iopub.execute_input": "2021-04-26T03:59:12.008470Z",
     "iopub.status.busy": "2021-04-26T03:59:12.007705Z",
     "iopub.status.idle": "2021-04-26T03:59:12.011063Z",
     "shell.execute_reply": "2021-04-26T03:59:12.011509Z"
    },
    "papermill": {
     "duration": 0.079736,
     "end_time": "2021-04-26T03:59:12.011703",
     "exception": false,
     "start_time": "2021-04-26T03:59:11.931967",
     "status": "completed"
    },
    "tags": []
   },
   "outputs": [
    {
     "data": {
      "text/html": [
       "<div>\n",
       "<style scoped>\n",
       "    .dataframe tbody tr th:only-of-type {\n",
       "        vertical-align: middle;\n",
       "    }\n",
       "\n",
       "    .dataframe tbody tr th {\n",
       "        vertical-align: top;\n",
       "    }\n",
       "\n",
       "    .dataframe thead th {\n",
       "        text-align: right;\n",
       "    }\n",
       "</style>\n",
       "<table border=\"1\" class=\"dataframe\">\n",
       "  <thead>\n",
       "    <tr style=\"text-align: right;\">\n",
       "      <th></th>\n",
       "      <th>PassengerId</th>\n",
       "      <th>Pclass</th>\n",
       "      <th>Name</th>\n",
       "      <th>Sex</th>\n",
       "      <th>Age</th>\n",
       "      <th>SibSp</th>\n",
       "      <th>Parch</th>\n",
       "      <th>Ticket</th>\n",
       "      <th>Fare</th>\n",
       "      <th>Cabin</th>\n",
       "      <th>Embarked</th>\n",
       "    </tr>\n",
       "  </thead>\n",
       "  <tbody>\n",
       "    <tr>\n",
       "      <th>381</th>\n",
       "      <td>1273</td>\n",
       "      <td>3</td>\n",
       "      <td>Foley, Mr. Joseph</td>\n",
       "      <td>male</td>\n",
       "      <td>26.0</td>\n",
       "      <td>0</td>\n",
       "      <td>0</td>\n",
       "      <td>330910</td>\n",
       "      <td>7.8792</td>\n",
       "      <td>NaN</td>\n",
       "      <td>Q</td>\n",
       "    </tr>\n",
       "    <tr>\n",
       "      <th>156</th>\n",
       "      <td>1048</td>\n",
       "      <td>1</td>\n",
       "      <td>Bird, Miss. Ellen</td>\n",
       "      <td>female</td>\n",
       "      <td>29.0</td>\n",
       "      <td>0</td>\n",
       "      <td>0</td>\n",
       "      <td>PC 17483</td>\n",
       "      <td>221.7792</td>\n",
       "      <td>C97</td>\n",
       "      <td>S</td>\n",
       "    </tr>\n",
       "    <tr>\n",
       "      <th>171</th>\n",
       "      <td>1063</td>\n",
       "      <td>3</td>\n",
       "      <td>Zakarian, Mr. Ortin</td>\n",
       "      <td>male</td>\n",
       "      <td>27.0</td>\n",
       "      <td>0</td>\n",
       "      <td>0</td>\n",
       "      <td>2670</td>\n",
       "      <td>7.2250</td>\n",
       "      <td>NaN</td>\n",
       "      <td>C</td>\n",
       "    </tr>\n",
       "    <tr>\n",
       "      <th>49</th>\n",
       "      <td>941</td>\n",
       "      <td>3</td>\n",
       "      <td>Coutts, Mrs. William (Winnie Minnie\" Treanor)\"</td>\n",
       "      <td>female</td>\n",
       "      <td>36.0</td>\n",
       "      <td>0</td>\n",
       "      <td>2</td>\n",
       "      <td>C.A. 37671</td>\n",
       "      <td>15.9000</td>\n",
       "      <td>NaN</td>\n",
       "      <td>S</td>\n",
       "    </tr>\n",
       "    <tr>\n",
       "      <th>2</th>\n",
       "      <td>894</td>\n",
       "      <td>2</td>\n",
       "      <td>Myles, Mr. Thomas Francis</td>\n",
       "      <td>male</td>\n",
       "      <td>62.0</td>\n",
       "      <td>0</td>\n",
       "      <td>0</td>\n",
       "      <td>240276</td>\n",
       "      <td>9.6875</td>\n",
       "      <td>NaN</td>\n",
       "      <td>Q</td>\n",
       "    </tr>\n",
       "  </tbody>\n",
       "</table>\n",
       "</div>"
      ],
      "text/plain": [
       "     PassengerId  Pclass                                            Name  \\\n",
       "381         1273       3                               Foley, Mr. Joseph   \n",
       "156         1048       1                               Bird, Miss. Ellen   \n",
       "171         1063       3                             Zakarian, Mr. Ortin   \n",
       "49           941       3  Coutts, Mrs. William (Winnie Minnie\" Treanor)\"   \n",
       "2            894       2                       Myles, Mr. Thomas Francis   \n",
       "\n",
       "        Sex   Age  SibSp  Parch      Ticket      Fare Cabin Embarked  \n",
       "381    male  26.0      0      0      330910    7.8792   NaN        Q  \n",
       "156  female  29.0      0      0    PC 17483  221.7792   C97        S  \n",
       "171    male  27.0      0      0        2670    7.2250   NaN        C  \n",
       "49   female  36.0      0      2  C.A. 37671   15.9000   NaN        S  \n",
       "2      male  62.0      0      0      240276    9.6875   NaN        Q  "
      ]
     },
     "execution_count": 7,
     "metadata": {},
     "output_type": "execute_result"
    }
   ],
   "source": [
    "#Let's look at random 5 lines of the test base\n",
    "test.sample(5)"
   ]
  },
  {
   "cell_type": "markdown",
   "id": "unknown-dollar",
   "metadata": {
    "papermill": {
     "duration": 0.057471,
     "end_time": "2021-04-26T03:59:12.127650",
     "exception": false,
     "start_time": "2021-04-26T03:59:12.070179",
     "status": "completed"
    },
    "tags": []
   },
   "source": [
    "More on the signs:\n",
    "* PassengerId - identifier of passenger\n",
    "* Survived - survival flag\n",
    "* Pclass - ticket class\n",
    "* Name - name of passenger\n",
    "* Sex - sex (gender)\n",
    "* Age - age in years\n",
    "* SibSp - number of siblings / spouses aboard the Titanic\n",
    "* Parch - number of parents / children aboard the Titanic\n",
    "* Ticket - ticket number\n",
    "* Fare - passenger fare\n",
    "* Cabin - cabin number\n",
    "* Embarked - port of Embarkation"
   ]
  },
  {
   "cell_type": "code",
   "execution_count": 8,
   "id": "quarterly-botswana",
   "metadata": {
    "execution": {
     "iopub.execute_input": "2021-04-26T03:59:12.252721Z",
     "iopub.status.busy": "2021-04-26T03:59:12.251887Z",
     "iopub.status.idle": "2021-04-26T03:59:12.255160Z",
     "shell.execute_reply": "2021-04-26T03:59:12.255681Z"
    },
    "papermill": {
     "duration": 0.070379,
     "end_time": "2021-04-26T03:59:12.255851",
     "exception": false,
     "start_time": "2021-04-26T03:59:12.185472",
     "status": "completed"
    },
    "tags": []
   },
   "outputs": [
    {
     "data": {
      "text/html": [
       "<div>\n",
       "<style scoped>\n",
       "    .dataframe tbody tr th:only-of-type {\n",
       "        vertical-align: middle;\n",
       "    }\n",
       "\n",
       "    .dataframe tbody tr th {\n",
       "        vertical-align: top;\n",
       "    }\n",
       "\n",
       "    .dataframe thead th {\n",
       "        text-align: right;\n",
       "    }\n",
       "</style>\n",
       "<table border=\"1\" class=\"dataframe\">\n",
       "  <thead>\n",
       "    <tr style=\"text-align: right;\">\n",
       "      <th></th>\n",
       "      <th>PassengerId</th>\n",
       "      <th>Survived</th>\n",
       "    </tr>\n",
       "  </thead>\n",
       "  <tbody>\n",
       "    <tr>\n",
       "      <th>415</th>\n",
       "      <td>1307</td>\n",
       "      <td>0</td>\n",
       "    </tr>\n",
       "    <tr>\n",
       "      <th>21</th>\n",
       "      <td>913</td>\n",
       "      <td>0</td>\n",
       "    </tr>\n",
       "    <tr>\n",
       "      <th>44</th>\n",
       "      <td>936</td>\n",
       "      <td>1</td>\n",
       "    </tr>\n",
       "    <tr>\n",
       "      <th>132</th>\n",
       "      <td>1024</td>\n",
       "      <td>1</td>\n",
       "    </tr>\n",
       "    <tr>\n",
       "      <th>114</th>\n",
       "      <td>1006</td>\n",
       "      <td>1</td>\n",
       "    </tr>\n",
       "  </tbody>\n",
       "</table>\n",
       "</div>"
      ],
      "text/plain": [
       "     PassengerId  Survived\n",
       "415         1307         0\n",
       "21           913         0\n",
       "44           936         1\n",
       "132         1024         1\n",
       "114         1006         1"
      ]
     },
     "execution_count": 8,
     "metadata": {},
     "output_type": "execute_result"
    }
   ],
   "source": [
    "#Let's look at random 5 lines of gender_submission\n",
    "gender_submission.sample(5)"
   ]
  },
  {
   "cell_type": "code",
   "execution_count": 9,
   "id": "optional-spine",
   "metadata": {
    "execution": {
     "iopub.execute_input": "2021-04-26T03:59:12.375679Z",
     "iopub.status.busy": "2021-04-26T03:59:12.374742Z",
     "iopub.status.idle": "2021-04-26T03:59:12.397955Z",
     "shell.execute_reply": "2021-04-26T03:59:12.397308Z"
    },
    "papermill": {
     "duration": 0.084211,
     "end_time": "2021-04-26T03:59:12.398102",
     "exception": false,
     "start_time": "2021-04-26T03:59:12.313891",
     "status": "completed"
    },
    "tags": []
   },
   "outputs": [
    {
     "name": "stdout",
     "output_type": "stream",
     "text": [
      "<class 'pandas.core.frame.DataFrame'>\n",
      "RangeIndex: 891 entries, 0 to 890\n",
      "Data columns (total 12 columns):\n",
      " #   Column       Non-Null Count  Dtype  \n",
      "---  ------       --------------  -----  \n",
      " 0   PassengerId  891 non-null    int64  \n",
      " 1   Survived     891 non-null    int64  \n",
      " 2   Pclass       891 non-null    int64  \n",
      " 3   Name         891 non-null    object \n",
      " 4   Sex          891 non-null    object \n",
      " 5   Age          714 non-null    float64\n",
      " 6   SibSp        891 non-null    int64  \n",
      " 7   Parch        891 non-null    int64  \n",
      " 8   Ticket       891 non-null    object \n",
      " 9   Fare         891 non-null    float64\n",
      " 10  Cabin        204 non-null    object \n",
      " 11  Embarked     889 non-null    object \n",
      "dtypes: float64(2), int64(5), object(5)\n",
      "memory usage: 83.7+ KB\n"
     ]
    }
   ],
   "source": [
    "# Train base information\n",
    "train.info()"
   ]
  },
  {
   "cell_type": "code",
   "execution_count": 10,
   "id": "frank-junction",
   "metadata": {
    "execution": {
     "iopub.execute_input": "2021-04-26T03:59:12.530251Z",
     "iopub.status.busy": "2021-04-26T03:59:12.529609Z",
     "iopub.status.idle": "2021-04-26T03:59:12.533120Z",
     "shell.execute_reply": "2021-04-26T03:59:12.532487Z"
    },
    "papermill": {
     "duration": 0.075663,
     "end_time": "2021-04-26T03:59:12.533252",
     "exception": false,
     "start_time": "2021-04-26T03:59:12.457589",
     "status": "completed"
    },
    "tags": []
   },
   "outputs": [
    {
     "name": "stdout",
     "output_type": "stream",
     "text": [
      "<class 'pandas.core.frame.DataFrame'>\n",
      "RangeIndex: 418 entries, 0 to 417\n",
      "Data columns (total 11 columns):\n",
      " #   Column       Non-Null Count  Dtype  \n",
      "---  ------       --------------  -----  \n",
      " 0   PassengerId  418 non-null    int64  \n",
      " 1   Pclass       418 non-null    int64  \n",
      " 2   Name         418 non-null    object \n",
      " 3   Sex          418 non-null    object \n",
      " 4   Age          332 non-null    float64\n",
      " 5   SibSp        418 non-null    int64  \n",
      " 6   Parch        418 non-null    int64  \n",
      " 7   Ticket       418 non-null    object \n",
      " 8   Fare         417 non-null    float64\n",
      " 9   Cabin        91 non-null     object \n",
      " 10  Embarked     418 non-null    object \n",
      "dtypes: float64(2), int64(4), object(5)\n",
      "memory usage: 36.0+ KB\n"
     ]
    }
   ],
   "source": [
    "# Test base information\n",
    "test.info()"
   ]
  },
  {
   "cell_type": "code",
   "execution_count": 11,
   "id": "figured-surveillance",
   "metadata": {
    "execution": {
     "iopub.execute_input": "2021-04-26T03:59:12.659138Z",
     "iopub.status.busy": "2021-04-26T03:59:12.658455Z",
     "iopub.status.idle": "2021-04-26T03:59:12.688862Z",
     "shell.execute_reply": "2021-04-26T03:59:12.688356Z"
    },
    "papermill": {
     "duration": 0.096644,
     "end_time": "2021-04-26T03:59:12.689020",
     "exception": false,
     "start_time": "2021-04-26T03:59:12.592376",
     "status": "completed"
    },
    "tags": []
   },
   "outputs": [
    {
     "data": {
      "text/html": [
       "<div>\n",
       "<style scoped>\n",
       "    .dataframe tbody tr th:only-of-type {\n",
       "        vertical-align: middle;\n",
       "    }\n",
       "\n",
       "    .dataframe tbody tr th {\n",
       "        vertical-align: top;\n",
       "    }\n",
       "\n",
       "    .dataframe thead th {\n",
       "        text-align: right;\n",
       "    }\n",
       "</style>\n",
       "<table border=\"1\" class=\"dataframe\">\n",
       "  <thead>\n",
       "    <tr style=\"text-align: right;\">\n",
       "      <th></th>\n",
       "      <th>PassengerId</th>\n",
       "      <th>Survived</th>\n",
       "      <th>Pclass</th>\n",
       "      <th>Age</th>\n",
       "      <th>SibSp</th>\n",
       "      <th>Parch</th>\n",
       "      <th>Fare</th>\n",
       "    </tr>\n",
       "  </thead>\n",
       "  <tbody>\n",
       "    <tr>\n",
       "      <th>count</th>\n",
       "      <td>891.000000</td>\n",
       "      <td>891.000000</td>\n",
       "      <td>891.000000</td>\n",
       "      <td>714.000000</td>\n",
       "      <td>891.000000</td>\n",
       "      <td>891.000000</td>\n",
       "      <td>891.000000</td>\n",
       "    </tr>\n",
       "    <tr>\n",
       "      <th>mean</th>\n",
       "      <td>446.000000</td>\n",
       "      <td>0.383838</td>\n",
       "      <td>2.308642</td>\n",
       "      <td>29.699118</td>\n",
       "      <td>0.523008</td>\n",
       "      <td>0.381594</td>\n",
       "      <td>32.204208</td>\n",
       "    </tr>\n",
       "    <tr>\n",
       "      <th>std</th>\n",
       "      <td>257.353842</td>\n",
       "      <td>0.486592</td>\n",
       "      <td>0.836071</td>\n",
       "      <td>14.526497</td>\n",
       "      <td>1.102743</td>\n",
       "      <td>0.806057</td>\n",
       "      <td>49.693429</td>\n",
       "    </tr>\n",
       "    <tr>\n",
       "      <th>min</th>\n",
       "      <td>1.000000</td>\n",
       "      <td>0.000000</td>\n",
       "      <td>1.000000</td>\n",
       "      <td>0.420000</td>\n",
       "      <td>0.000000</td>\n",
       "      <td>0.000000</td>\n",
       "      <td>0.000000</td>\n",
       "    </tr>\n",
       "    <tr>\n",
       "      <th>25%</th>\n",
       "      <td>223.500000</td>\n",
       "      <td>0.000000</td>\n",
       "      <td>2.000000</td>\n",
       "      <td>20.125000</td>\n",
       "      <td>0.000000</td>\n",
       "      <td>0.000000</td>\n",
       "      <td>7.910400</td>\n",
       "    </tr>\n",
       "    <tr>\n",
       "      <th>50%</th>\n",
       "      <td>446.000000</td>\n",
       "      <td>0.000000</td>\n",
       "      <td>3.000000</td>\n",
       "      <td>28.000000</td>\n",
       "      <td>0.000000</td>\n",
       "      <td>0.000000</td>\n",
       "      <td>14.454200</td>\n",
       "    </tr>\n",
       "    <tr>\n",
       "      <th>75%</th>\n",
       "      <td>668.500000</td>\n",
       "      <td>1.000000</td>\n",
       "      <td>3.000000</td>\n",
       "      <td>38.000000</td>\n",
       "      <td>1.000000</td>\n",
       "      <td>0.000000</td>\n",
       "      <td>31.000000</td>\n",
       "    </tr>\n",
       "    <tr>\n",
       "      <th>max</th>\n",
       "      <td>891.000000</td>\n",
       "      <td>1.000000</td>\n",
       "      <td>3.000000</td>\n",
       "      <td>80.000000</td>\n",
       "      <td>8.000000</td>\n",
       "      <td>6.000000</td>\n",
       "      <td>512.329200</td>\n",
       "    </tr>\n",
       "  </tbody>\n",
       "</table>\n",
       "</div>"
      ],
      "text/plain": [
       "       PassengerId    Survived      Pclass         Age       SibSp  \\\n",
       "count   891.000000  891.000000  891.000000  714.000000  891.000000   \n",
       "mean    446.000000    0.383838    2.308642   29.699118    0.523008   \n",
       "std     257.353842    0.486592    0.836071   14.526497    1.102743   \n",
       "min       1.000000    0.000000    1.000000    0.420000    0.000000   \n",
       "25%     223.500000    0.000000    2.000000   20.125000    0.000000   \n",
       "50%     446.000000    0.000000    3.000000   28.000000    0.000000   \n",
       "75%     668.500000    1.000000    3.000000   38.000000    1.000000   \n",
       "max     891.000000    1.000000    3.000000   80.000000    8.000000   \n",
       "\n",
       "            Parch        Fare  \n",
       "count  891.000000  891.000000  \n",
       "mean     0.381594   32.204208  \n",
       "std      0.806057   49.693429  \n",
       "min      0.000000    0.000000  \n",
       "25%      0.000000    7.910400  \n",
       "50%      0.000000   14.454200  \n",
       "75%      0.000000   31.000000  \n",
       "max      6.000000  512.329200  "
      ]
     },
     "execution_count": 11,
     "metadata": {},
     "output_type": "execute_result"
    }
   ],
   "source": [
    "# Train database statistics\n",
    "train.describe()"
   ]
  },
  {
   "cell_type": "code",
   "execution_count": 12,
   "id": "personalized-restriction",
   "metadata": {
    "execution": {
     "iopub.execute_input": "2021-04-26T03:59:12.820481Z",
     "iopub.status.busy": "2021-04-26T03:59:12.819717Z",
     "iopub.status.idle": "2021-04-26T03:59:12.843475Z",
     "shell.execute_reply": "2021-04-26T03:59:12.842800Z"
    },
    "papermill": {
     "duration": 0.093501,
     "end_time": "2021-04-26T03:59:12.843616",
     "exception": false,
     "start_time": "2021-04-26T03:59:12.750115",
     "status": "completed"
    },
    "tags": []
   },
   "outputs": [
    {
     "data": {
      "text/html": [
       "<div>\n",
       "<style scoped>\n",
       "    .dataframe tbody tr th:only-of-type {\n",
       "        vertical-align: middle;\n",
       "    }\n",
       "\n",
       "    .dataframe tbody tr th {\n",
       "        vertical-align: top;\n",
       "    }\n",
       "\n",
       "    .dataframe thead th {\n",
       "        text-align: right;\n",
       "    }\n",
       "</style>\n",
       "<table border=\"1\" class=\"dataframe\">\n",
       "  <thead>\n",
       "    <tr style=\"text-align: right;\">\n",
       "      <th></th>\n",
       "      <th>PassengerId</th>\n",
       "      <th>Pclass</th>\n",
       "      <th>Age</th>\n",
       "      <th>SibSp</th>\n",
       "      <th>Parch</th>\n",
       "      <th>Fare</th>\n",
       "    </tr>\n",
       "  </thead>\n",
       "  <tbody>\n",
       "    <tr>\n",
       "      <th>count</th>\n",
       "      <td>418.000000</td>\n",
       "      <td>418.000000</td>\n",
       "      <td>332.000000</td>\n",
       "      <td>418.000000</td>\n",
       "      <td>418.000000</td>\n",
       "      <td>417.000000</td>\n",
       "    </tr>\n",
       "    <tr>\n",
       "      <th>mean</th>\n",
       "      <td>1100.500000</td>\n",
       "      <td>2.265550</td>\n",
       "      <td>30.272590</td>\n",
       "      <td>0.447368</td>\n",
       "      <td>0.392344</td>\n",
       "      <td>35.627188</td>\n",
       "    </tr>\n",
       "    <tr>\n",
       "      <th>std</th>\n",
       "      <td>120.810458</td>\n",
       "      <td>0.841838</td>\n",
       "      <td>14.181209</td>\n",
       "      <td>0.896760</td>\n",
       "      <td>0.981429</td>\n",
       "      <td>55.907576</td>\n",
       "    </tr>\n",
       "    <tr>\n",
       "      <th>min</th>\n",
       "      <td>892.000000</td>\n",
       "      <td>1.000000</td>\n",
       "      <td>0.170000</td>\n",
       "      <td>0.000000</td>\n",
       "      <td>0.000000</td>\n",
       "      <td>0.000000</td>\n",
       "    </tr>\n",
       "    <tr>\n",
       "      <th>25%</th>\n",
       "      <td>996.250000</td>\n",
       "      <td>1.000000</td>\n",
       "      <td>21.000000</td>\n",
       "      <td>0.000000</td>\n",
       "      <td>0.000000</td>\n",
       "      <td>7.895800</td>\n",
       "    </tr>\n",
       "    <tr>\n",
       "      <th>50%</th>\n",
       "      <td>1100.500000</td>\n",
       "      <td>3.000000</td>\n",
       "      <td>27.000000</td>\n",
       "      <td>0.000000</td>\n",
       "      <td>0.000000</td>\n",
       "      <td>14.454200</td>\n",
       "    </tr>\n",
       "    <tr>\n",
       "      <th>75%</th>\n",
       "      <td>1204.750000</td>\n",
       "      <td>3.000000</td>\n",
       "      <td>39.000000</td>\n",
       "      <td>1.000000</td>\n",
       "      <td>0.000000</td>\n",
       "      <td>31.500000</td>\n",
       "    </tr>\n",
       "    <tr>\n",
       "      <th>max</th>\n",
       "      <td>1309.000000</td>\n",
       "      <td>3.000000</td>\n",
       "      <td>76.000000</td>\n",
       "      <td>8.000000</td>\n",
       "      <td>9.000000</td>\n",
       "      <td>512.329200</td>\n",
       "    </tr>\n",
       "  </tbody>\n",
       "</table>\n",
       "</div>"
      ],
      "text/plain": [
       "       PassengerId      Pclass         Age       SibSp       Parch        Fare\n",
       "count   418.000000  418.000000  332.000000  418.000000  418.000000  417.000000\n",
       "mean   1100.500000    2.265550   30.272590    0.447368    0.392344   35.627188\n",
       "std     120.810458    0.841838   14.181209    0.896760    0.981429   55.907576\n",
       "min     892.000000    1.000000    0.170000    0.000000    0.000000    0.000000\n",
       "25%     996.250000    1.000000   21.000000    0.000000    0.000000    7.895800\n",
       "50%    1100.500000    3.000000   27.000000    0.000000    0.000000   14.454200\n",
       "75%    1204.750000    3.000000   39.000000    1.000000    0.000000   31.500000\n",
       "max    1309.000000    3.000000   76.000000    8.000000    9.000000  512.329200"
      ]
     },
     "execution_count": 12,
     "metadata": {},
     "output_type": "execute_result"
    }
   ],
   "source": [
    "# Test database statistics\n",
    "test.describe()"
   ]
  },
  {
   "cell_type": "markdown",
   "id": "broadband-arcade",
   "metadata": {
    "papermill": {
     "duration": 0.068828,
     "end_time": "2021-04-26T03:59:12.987868",
     "exception": false,
     "start_time": "2021-04-26T03:59:12.919040",
     "status": "completed"
    },
    "tags": []
   },
   "source": [
    "# Preprocessing"
   ]
  },
  {
   "cell_type": "code",
   "execution_count": 13,
   "id": "lonely-hospital",
   "metadata": {
    "execution": {
     "iopub.execute_input": "2021-04-26T03:59:13.140245Z",
     "iopub.status.busy": "2021-04-26T03:59:13.137514Z",
     "iopub.status.idle": "2021-04-26T03:59:13.144233Z",
     "shell.execute_reply": "2021-04-26T03:59:13.144714Z"
    },
    "papermill": {
     "duration": 0.078127,
     "end_time": "2021-04-26T03:59:13.144873",
     "exception": false,
     "start_time": "2021-04-26T03:59:13.066746",
     "status": "completed"
    },
    "tags": []
   },
   "outputs": [
    {
     "data": {
      "text/plain": [
       "0    549\n",
       "1    342\n",
       "Name: Survived, dtype: int64"
      ]
     },
     "execution_count": 13,
     "metadata": {},
     "output_type": "execute_result"
    }
   ],
   "source": [
    "# Let's look at the distribution of the target variable\n",
    "train.Survived.value_counts()"
   ]
  },
  {
   "cell_type": "code",
   "execution_count": 14,
   "id": "consolidated-providence",
   "metadata": {
    "execution": {
     "iopub.execute_input": "2021-04-26T03:59:13.283951Z",
     "iopub.status.busy": "2021-04-26T03:59:13.283039Z",
     "iopub.status.idle": "2021-04-26T03:59:13.291036Z",
     "shell.execute_reply": "2021-04-26T03:59:13.291505Z"
    },
    "papermill": {
     "duration": 0.073943,
     "end_time": "2021-04-26T03:59:13.291674",
     "exception": false,
     "start_time": "2021-04-26T03:59:13.217731",
     "status": "completed"
    },
    "tags": []
   },
   "outputs": [
    {
     "data": {
      "text/plain": [
       "PassengerId      0\n",
       "Survived         0\n",
       "Pclass           0\n",
       "Name             0\n",
       "Sex              0\n",
       "Age            177\n",
       "SibSp            0\n",
       "Parch            0\n",
       "Ticket           0\n",
       "Fare             0\n",
       "Cabin          687\n",
       "Embarked         2\n",
       "dtype: int64"
      ]
     },
     "execution_count": 14,
     "metadata": {},
     "output_type": "execute_result"
    }
   ],
   "source": [
    "# the number of passes in the training base\n",
    "train.isna().sum()"
   ]
  },
  {
   "cell_type": "code",
   "execution_count": 15,
   "id": "swiss-operator",
   "metadata": {
    "execution": {
     "iopub.execute_input": "2021-04-26T03:59:13.419169Z",
     "iopub.status.busy": "2021-04-26T03:59:13.418253Z",
     "iopub.status.idle": "2021-04-26T03:59:13.425791Z",
     "shell.execute_reply": "2021-04-26T03:59:13.426347Z"
    },
    "papermill": {
     "duration": 0.072895,
     "end_time": "2021-04-26T03:59:13.426510",
     "exception": false,
     "start_time": "2021-04-26T03:59:13.353615",
     "status": "completed"
    },
    "tags": []
   },
   "outputs": [
    {
     "data": {
      "text/plain": [
       "PassengerId      0\n",
       "Pclass           0\n",
       "Name             0\n",
       "Sex              0\n",
       "Age             86\n",
       "SibSp            0\n",
       "Parch            0\n",
       "Ticket           0\n",
       "Fare             1\n",
       "Cabin          327\n",
       "Embarked         0\n",
       "dtype: int64"
      ]
     },
     "execution_count": 15,
     "metadata": {},
     "output_type": "execute_result"
    }
   ],
   "source": [
    "# the number of passes in the testing base\n",
    "test.isna().sum()"
   ]
  },
  {
   "cell_type": "code",
   "execution_count": 16,
   "id": "choice-engagement",
   "metadata": {
    "execution": {
     "iopub.execute_input": "2021-04-26T03:59:13.578894Z",
     "iopub.status.busy": "2021-04-26T03:59:13.577993Z",
     "iopub.status.idle": "2021-04-26T03:59:13.586034Z",
     "shell.execute_reply": "2021-04-26T03:59:13.586561Z"
    },
    "papermill": {
     "duration": 0.08661,
     "end_time": "2021-04-26T03:59:13.586724",
     "exception": false,
     "start_time": "2021-04-26T03:59:13.500114",
     "status": "completed"
    },
    "tags": []
   },
   "outputs": [
    {
     "data": {
      "text/plain": [
       "24.00    30\n",
       "22.00    27\n",
       "18.00    26\n",
       "28.00    25\n",
       "19.00    25\n",
       "         ..\n",
       "55.50     1\n",
       "74.00     1\n",
       "0.92      1\n",
       "70.50     1\n",
       "12.00     1\n",
       "Name: Age, Length: 88, dtype: int64"
      ]
     },
     "execution_count": 16,
     "metadata": {},
     "output_type": "execute_result"
    }
   ],
   "source": [
    "# Let's look at the distribution of Age\n",
    "train.Age.value_counts()"
   ]
  },
  {
   "cell_type": "markdown",
   "id": "saving-rochester",
   "metadata": {
    "papermill": {
     "duration": 0.062093,
     "end_time": "2021-04-26T03:59:13.712137",
     "exception": false,
     "start_time": "2021-04-26T03:59:13.650044",
     "status": "completed"
    },
    "tags": []
   },
   "source": [
    "Let's look the Age distribution depending on the Survived values"
   ]
  },
  {
   "cell_type": "code",
   "execution_count": 17,
   "id": "eastern-occasions",
   "metadata": {
    "execution": {
     "iopub.execute_input": "2021-04-26T03:59:13.841312Z",
     "iopub.status.busy": "2021-04-26T03:59:13.840361Z",
     "iopub.status.idle": "2021-04-26T03:59:13.865792Z",
     "shell.execute_reply": "2021-04-26T03:59:13.865285Z"
    },
    "papermill": {
     "duration": 0.091195,
     "end_time": "2021-04-26T03:59:13.865956",
     "exception": false,
     "start_time": "2021-04-26T03:59:13.774761",
     "status": "completed"
    },
    "tags": []
   },
   "outputs": [
    {
     "data": {
      "text/plain": [
       "21.0    19\n",
       "28.0    18\n",
       "25.0    17\n",
       "18.0    17\n",
       "22.0    16\n",
       "        ..\n",
       "15.0     1\n",
       "36.5     1\n",
       "34.5     1\n",
       "55.0     1\n",
       "74.0     1\n",
       "Name: Age, Length: 77, dtype: int64"
      ]
     },
     "execution_count": 17,
     "metadata": {},
     "output_type": "execute_result"
    }
   ],
   "source": [
    "train[train.Survived == 0].Age.value_counts()"
   ]
  },
  {
   "cell_type": "code",
   "execution_count": 18,
   "id": "central-suffering",
   "metadata": {
    "execution": {
     "iopub.execute_input": "2021-04-26T03:59:14.001833Z",
     "iopub.status.busy": "2021-04-26T03:59:14.001185Z",
     "iopub.status.idle": "2021-04-26T03:59:14.004156Z",
     "shell.execute_reply": "2021-04-26T03:59:14.004671Z"
    },
    "papermill": {
     "duration": 0.075461,
     "end_time": "2021-04-26T03:59:14.004831",
     "exception": false,
     "start_time": "2021-04-26T03:59:13.929370",
     "status": "completed"
    },
    "tags": []
   },
   "outputs": [
    {
     "data": {
      "text/plain": [
       "24.00    15\n",
       "36.00    11\n",
       "35.00    11\n",
       "27.00    11\n",
       "22.00    11\n",
       "         ..\n",
       "43.00     1\n",
       "0.92      1\n",
       "55.00     1\n",
       "12.00     1\n",
       "0.67      1\n",
       "Name: Age, Length: 65, dtype: int64"
      ]
     },
     "execution_count": 18,
     "metadata": {},
     "output_type": "execute_result"
    }
   ],
   "source": [
    "train[train.Survived == 1].Age.value_counts()"
   ]
  },
  {
   "cell_type": "code",
   "execution_count": 19,
   "id": "serial-validity",
   "metadata": {
    "execution": {
     "iopub.execute_input": "2021-04-26T03:59:14.134835Z",
     "iopub.status.busy": "2021-04-26T03:59:14.134247Z",
     "iopub.status.idle": "2021-04-26T03:59:14.141153Z",
     "shell.execute_reply": "2021-04-26T03:59:14.141684Z"
    },
    "papermill": {
     "duration": 0.073634,
     "end_time": "2021-04-26T03:59:14.141843",
     "exception": false,
     "start_time": "2021-04-26T03:59:14.068209",
     "status": "completed"
    },
    "tags": []
   },
   "outputs": [],
   "source": [
    "# replace the pass with the mean\n",
    "train.Age = train.Age.fillna(train.Age.mean())\n",
    "test.Age = test.Age.fillna(test.Age.mean())"
   ]
  },
  {
   "cell_type": "code",
   "execution_count": 20,
   "id": "greater-opening",
   "metadata": {
    "execution": {
     "iopub.execute_input": "2021-04-26T03:59:14.272535Z",
     "iopub.status.busy": "2021-04-26T03:59:14.271868Z",
     "iopub.status.idle": "2021-04-26T03:59:14.278695Z",
     "shell.execute_reply": "2021-04-26T03:59:14.279295Z"
    },
    "papermill": {
     "duration": 0.073775,
     "end_time": "2021-04-26T03:59:14.279461",
     "exception": false,
     "start_time": "2021-04-26T03:59:14.205686",
     "status": "completed"
    },
    "tags": []
   },
   "outputs": [
    {
     "data": {
      "text/plain": [
       "G6             4\n",
       "C23 C25 C27    4\n",
       "B96 B98        4\n",
       "D              3\n",
       "F2             3\n",
       "              ..\n",
       "C95            1\n",
       "C87            1\n",
       "E58            1\n",
       "C49            1\n",
       "B42            1\n",
       "Name: Cabin, Length: 147, dtype: int64"
      ]
     },
     "execution_count": 20,
     "metadata": {},
     "output_type": "execute_result"
    }
   ],
   "source": [
    "# Let's look at the distribution of Cabin\n",
    "train.Cabin.value_counts()"
   ]
  },
  {
   "cell_type": "markdown",
   "id": "assured-giant",
   "metadata": {
    "papermill": {
     "duration": 0.063986,
     "end_time": "2021-04-26T03:59:14.408239",
     "exception": false,
     "start_time": "2021-04-26T03:59:14.344253",
     "status": "completed"
    },
    "tags": []
   },
   "source": [
    "Let's replace the Cabin values with the letter from the number of cabin (if it is present in both test and train), the blanks are \"empty\""
   ]
  },
  {
   "cell_type": "code",
   "execution_count": 21,
   "id": "geological-space",
   "metadata": {
    "execution": {
     "iopub.execute_input": "2021-04-26T03:59:14.539477Z",
     "iopub.status.busy": "2021-04-26T03:59:14.538869Z",
     "iopub.status.idle": "2021-04-26T03:59:14.545777Z",
     "shell.execute_reply": "2021-04-26T03:59:14.546302Z"
    },
    "papermill": {
     "duration": 0.073969,
     "end_time": "2021-04-26T03:59:14.546458",
     "exception": false,
     "start_time": "2021-04-26T03:59:14.472489",
     "status": "completed"
    },
    "tags": []
   },
   "outputs": [],
   "source": [
    "train['Cabin'] = train.Cabin.str.extract(pat='([A-Z])')\n",
    "test['Cabin'] = test.Cabin.str.extract(pat='([A-Z])')"
   ]
  },
  {
   "cell_type": "code",
   "execution_count": 22,
   "id": "bizarre-sweet",
   "metadata": {
    "execution": {
     "iopub.execute_input": "2021-04-26T03:59:14.677362Z",
     "iopub.status.busy": "2021-04-26T03:59:14.676736Z",
     "iopub.status.idle": "2021-04-26T03:59:14.681766Z",
     "shell.execute_reply": "2021-04-26T03:59:14.682342Z"
    },
    "papermill": {
     "duration": 0.072295,
     "end_time": "2021-04-26T03:59:14.682504",
     "exception": false,
     "start_time": "2021-04-26T03:59:14.610209",
     "status": "completed"
    },
    "tags": []
   },
   "outputs": [],
   "source": [
    "train['Cabin'] = train.Cabin.fillna('empty')\n",
    "test['Cabin'] = test.Cabin.fillna('empty')"
   ]
  },
  {
   "cell_type": "code",
   "execution_count": 23,
   "id": "military-moldova",
   "metadata": {
    "execution": {
     "iopub.execute_input": "2021-04-26T03:59:14.814194Z",
     "iopub.status.busy": "2021-04-26T03:59:14.813573Z",
     "iopub.status.idle": "2021-04-26T03:59:14.818604Z",
     "shell.execute_reply": "2021-04-26T03:59:14.819127Z"
    },
    "papermill": {
     "duration": 0.072389,
     "end_time": "2021-04-26T03:59:14.819299",
     "exception": false,
     "start_time": "2021-04-26T03:59:14.746910",
     "status": "completed"
    },
    "tags": []
   },
   "outputs": [
    {
     "data": {
      "text/plain": [
       "array(['empty', 'C', 'E', 'G', 'D', 'A', 'B', 'F', 'T'], dtype=object)"
      ]
     },
     "execution_count": 23,
     "metadata": {},
     "output_type": "execute_result"
    }
   ],
   "source": [
    "train.Cabin.unique()"
   ]
  },
  {
   "cell_type": "code",
   "execution_count": 24,
   "id": "guided-springfield",
   "metadata": {
    "execution": {
     "iopub.execute_input": "2021-04-26T03:59:14.959508Z",
     "iopub.status.busy": "2021-04-26T03:59:14.958867Z",
     "iopub.status.idle": "2021-04-26T03:59:14.963667Z",
     "shell.execute_reply": "2021-04-26T03:59:14.964306Z"
    },
    "papermill": {
     "duration": 0.080968,
     "end_time": "2021-04-26T03:59:14.964471",
     "exception": false,
     "start_time": "2021-04-26T03:59:14.883503",
     "status": "completed"
    },
    "tags": []
   },
   "outputs": [
    {
     "data": {
      "text/plain": [
       "array(['empty', 'B', 'E', 'A', 'C', 'D', 'F', 'G'], dtype=object)"
      ]
     },
     "execution_count": 24,
     "metadata": {},
     "output_type": "execute_result"
    }
   ],
   "source": [
    "test.Cabin.unique()"
   ]
  },
  {
   "cell_type": "code",
   "execution_count": 25,
   "id": "loved-indiana",
   "metadata": {
    "execution": {
     "iopub.execute_input": "2021-04-26T03:59:15.098829Z",
     "iopub.status.busy": "2021-04-26T03:59:15.098156Z",
     "iopub.status.idle": "2021-04-26T03:59:15.113036Z",
     "shell.execute_reply": "2021-04-26T03:59:15.114103Z"
    },
    "papermill": {
     "duration": 0.084994,
     "end_time": "2021-04-26T03:59:15.114281",
     "exception": false,
     "start_time": "2021-04-26T03:59:15.029287",
     "status": "completed"
    },
    "tags": []
   },
   "outputs": [
    {
     "data": {
      "text/html": [
       "<div>\n",
       "<style scoped>\n",
       "    .dataframe tbody tr th:only-of-type {\n",
       "        vertical-align: middle;\n",
       "    }\n",
       "\n",
       "    .dataframe tbody tr th {\n",
       "        vertical-align: top;\n",
       "    }\n",
       "\n",
       "    .dataframe thead th {\n",
       "        text-align: right;\n",
       "    }\n",
       "</style>\n",
       "<table border=\"1\" class=\"dataframe\">\n",
       "  <thead>\n",
       "    <tr style=\"text-align: right;\">\n",
       "      <th></th>\n",
       "      <th>PassengerId</th>\n",
       "      <th>Survived</th>\n",
       "      <th>Pclass</th>\n",
       "      <th>Name</th>\n",
       "      <th>Sex</th>\n",
       "      <th>Age</th>\n",
       "      <th>SibSp</th>\n",
       "      <th>Parch</th>\n",
       "      <th>Ticket</th>\n",
       "      <th>Fare</th>\n",
       "      <th>Cabin</th>\n",
       "      <th>Embarked</th>\n",
       "    </tr>\n",
       "  </thead>\n",
       "  <tbody>\n",
       "    <tr>\n",
       "      <th>339</th>\n",
       "      <td>340</td>\n",
       "      <td>0</td>\n",
       "      <td>1</td>\n",
       "      <td>Blackwell, Mr. Stephen Weart</td>\n",
       "      <td>male</td>\n",
       "      <td>45.0</td>\n",
       "      <td>0</td>\n",
       "      <td>0</td>\n",
       "      <td>113784</td>\n",
       "      <td>35.5</td>\n",
       "      <td>T</td>\n",
       "      <td>S</td>\n",
       "    </tr>\n",
       "  </tbody>\n",
       "</table>\n",
       "</div>"
      ],
      "text/plain": [
       "     PassengerId  Survived  Pclass                          Name   Sex   Age  \\\n",
       "339          340         0       1  Blackwell, Mr. Stephen Weart  male  45.0   \n",
       "\n",
       "     SibSp  Parch  Ticket  Fare Cabin Embarked  \n",
       "339      0      0  113784  35.5     T        S  "
      ]
     },
     "execution_count": 25,
     "metadata": {},
     "output_type": "execute_result"
    }
   ],
   "source": [
    "train[train.Cabin == 'T']"
   ]
  },
  {
   "cell_type": "code",
   "execution_count": 26,
   "id": "processed-density",
   "metadata": {
    "execution": {
     "iopub.execute_input": "2021-04-26T03:59:15.253398Z",
     "iopub.status.busy": "2021-04-26T03:59:15.252389Z",
     "iopub.status.idle": "2021-04-26T03:59:15.254543Z",
     "shell.execute_reply": "2021-04-26T03:59:15.255047Z"
    },
    "papermill": {
     "duration": 0.074995,
     "end_time": "2021-04-26T03:59:15.255214",
     "exception": false,
     "start_time": "2021-04-26T03:59:15.180219",
     "status": "completed"
    },
    "tags": []
   },
   "outputs": [],
   "source": [
    "train.Cabin = train.Cabin.apply(lambda s: 'empty' if s == 'T' else s)"
   ]
  },
  {
   "cell_type": "code",
   "execution_count": 27,
   "id": "digital-error",
   "metadata": {
    "execution": {
     "iopub.execute_input": "2021-04-26T03:59:15.396950Z",
     "iopub.status.busy": "2021-04-26T03:59:15.396012Z",
     "iopub.status.idle": "2021-04-26T03:59:15.402964Z",
     "shell.execute_reply": "2021-04-26T03:59:15.403452Z"
    },
    "papermill": {
     "duration": 0.08251,
     "end_time": "2021-04-26T03:59:15.403612",
     "exception": false,
     "start_time": "2021-04-26T03:59:15.321102",
     "status": "completed"
    },
    "tags": []
   },
   "outputs": [
    {
     "data": {
      "text/plain": [
       "S    644\n",
       "C    168\n",
       "Q     77\n",
       "Name: Embarked, dtype: int64"
      ]
     },
     "execution_count": 27,
     "metadata": {},
     "output_type": "execute_result"
    }
   ],
   "source": [
    "# # Let's look at the distribution of Cabin\n",
    "train.Embarked.value_counts()"
   ]
  },
  {
   "cell_type": "code",
   "execution_count": 28,
   "id": "extra-light",
   "metadata": {
    "execution": {
     "iopub.execute_input": "2021-04-26T03:59:15.541317Z",
     "iopub.status.busy": "2021-04-26T03:59:15.540360Z",
     "iopub.status.idle": "2021-04-26T03:59:15.547088Z",
     "shell.execute_reply": "2021-04-26T03:59:15.547591Z"
    },
    "papermill": {
     "duration": 0.076756,
     "end_time": "2021-04-26T03:59:15.547776",
     "exception": false,
     "start_time": "2021-04-26T03:59:15.471020",
     "status": "completed"
    },
    "tags": []
   },
   "outputs": [],
   "source": [
    "# delete two lines\n",
    "train = train.dropna(axis = 0, subset=['Embarked'])"
   ]
  },
  {
   "cell_type": "code",
   "execution_count": 29,
   "id": "attempted-respect",
   "metadata": {
    "execution": {
     "iopub.execute_input": "2021-04-26T03:59:15.684873Z",
     "iopub.status.busy": "2021-04-26T03:59:15.683955Z",
     "iopub.status.idle": "2021-04-26T03:59:15.689296Z",
     "shell.execute_reply": "2021-04-26T03:59:15.689753Z"
    },
    "papermill": {
     "duration": 0.075392,
     "end_time": "2021-04-26T03:59:15.689924",
     "exception": false,
     "start_time": "2021-04-26T03:59:15.614532",
     "status": "completed"
    },
    "tags": []
   },
   "outputs": [],
   "source": [
    "# replace the pass with the median in test dataset\n",
    "test.Fare = test.Fare.fillna(test.Fare.median())"
   ]
  },
  {
   "cell_type": "markdown",
   "id": "diverse-heath",
   "metadata": {
    "papermill": {
     "duration": 0.067181,
     "end_time": "2021-04-26T03:59:15.824249",
     "exception": false,
     "start_time": "2021-04-26T03:59:15.757068",
     "status": "completed"
    },
    "tags": []
   },
   "source": [
    "Let's take another look at the information about datasets after the changes."
   ]
  },
  {
   "cell_type": "code",
   "execution_count": 30,
   "id": "blocked-diagram",
   "metadata": {
    "execution": {
     "iopub.execute_input": "2021-04-26T03:59:15.960926Z",
     "iopub.status.busy": "2021-04-26T03:59:15.960307Z",
     "iopub.status.idle": "2021-04-26T03:59:15.973892Z",
     "shell.execute_reply": "2021-04-26T03:59:15.974499Z"
    },
    "papermill": {
     "duration": 0.083651,
     "end_time": "2021-04-26T03:59:15.974684",
     "exception": false,
     "start_time": "2021-04-26T03:59:15.891033",
     "status": "completed"
    },
    "tags": []
   },
   "outputs": [
    {
     "name": "stdout",
     "output_type": "stream",
     "text": [
      "<class 'pandas.core.frame.DataFrame'>\n",
      "Int64Index: 889 entries, 0 to 890\n",
      "Data columns (total 12 columns):\n",
      " #   Column       Non-Null Count  Dtype  \n",
      "---  ------       --------------  -----  \n",
      " 0   PassengerId  889 non-null    int64  \n",
      " 1   Survived     889 non-null    int64  \n",
      " 2   Pclass       889 non-null    int64  \n",
      " 3   Name         889 non-null    object \n",
      " 4   Sex          889 non-null    object \n",
      " 5   Age          889 non-null    float64\n",
      " 6   SibSp        889 non-null    int64  \n",
      " 7   Parch        889 non-null    int64  \n",
      " 8   Ticket       889 non-null    object \n",
      " 9   Fare         889 non-null    float64\n",
      " 10  Cabin        889 non-null    object \n",
      " 11  Embarked     889 non-null    object \n",
      "dtypes: float64(2), int64(5), object(5)\n",
      "memory usage: 90.3+ KB\n"
     ]
    }
   ],
   "source": [
    "train.info()"
   ]
  },
  {
   "cell_type": "code",
   "execution_count": 31,
   "id": "activated-entrance",
   "metadata": {
    "execution": {
     "iopub.execute_input": "2021-04-26T03:59:16.122088Z",
     "iopub.status.busy": "2021-04-26T03:59:16.121409Z",
     "iopub.status.idle": "2021-04-26T03:59:16.135273Z",
     "shell.execute_reply": "2021-04-26T03:59:16.136181Z"
    },
    "papermill": {
     "duration": 0.094677,
     "end_time": "2021-04-26T03:59:16.136418",
     "exception": false,
     "start_time": "2021-04-26T03:59:16.041741",
     "status": "completed"
    },
    "tags": []
   },
   "outputs": [
    {
     "name": "stdout",
     "output_type": "stream",
     "text": [
      "<class 'pandas.core.frame.DataFrame'>\n",
      "RangeIndex: 418 entries, 0 to 417\n",
      "Data columns (total 11 columns):\n",
      " #   Column       Non-Null Count  Dtype  \n",
      "---  ------       --------------  -----  \n",
      " 0   PassengerId  418 non-null    int64  \n",
      " 1   Pclass       418 non-null    int64  \n",
      " 2   Name         418 non-null    object \n",
      " 3   Sex          418 non-null    object \n",
      " 4   Age          418 non-null    float64\n",
      " 5   SibSp        418 non-null    int64  \n",
      " 6   Parch        418 non-null    int64  \n",
      " 7   Ticket       418 non-null    object \n",
      " 8   Fare         418 non-null    float64\n",
      " 9   Cabin        418 non-null    object \n",
      " 10  Embarked     418 non-null    object \n",
      "dtypes: float64(2), int64(4), object(5)\n",
      "memory usage: 36.0+ KB\n"
     ]
    }
   ],
   "source": [
    "test.info()"
   ]
  },
  {
   "cell_type": "markdown",
   "id": "disciplinary-force",
   "metadata": {
    "papermill": {
     "duration": 0.067033,
     "end_time": "2021-04-26T03:59:16.272754",
     "exception": false,
     "start_time": "2021-04-26T03:59:16.205721",
     "status": "completed"
    },
    "tags": []
   },
   "source": [
    "Passes removed"
   ]
  },
  {
   "cell_type": "code",
   "execution_count": 32,
   "id": "second-seventh",
   "metadata": {
    "execution": {
     "iopub.execute_input": "2021-04-26T03:59:16.415531Z",
     "iopub.status.busy": "2021-04-26T03:59:16.414804Z",
     "iopub.status.idle": "2021-04-26T03:59:16.417182Z",
     "shell.execute_reply": "2021-04-26T03:59:16.417669Z"
    },
    "papermill": {
     "duration": 0.077399,
     "end_time": "2021-04-26T03:59:16.417834",
     "exception": false,
     "start_time": "2021-04-26T03:59:16.340435",
     "status": "completed"
    },
    "tags": []
   },
   "outputs": [],
   "source": [
    "# we combine two signs of relatives into one\n",
    "train['Num_family'] = train['SibSp'] + train['Parch']\n",
    "test['Num_family'] = test['SibSp'] + test['Parch']"
   ]
  },
  {
   "cell_type": "markdown",
   "id": "filled-watson",
   "metadata": {
    "papermill": {
     "duration": 0.06733,
     "end_time": "2021-04-26T03:59:16.553955",
     "exception": false,
     "start_time": "2021-04-26T03:59:16.486625",
     "status": "completed"
    },
    "tags": []
   },
   "source": [
    "We split the signs into 3 lists (excl. PassengerID, Name)"
   ]
  },
  {
   "cell_type": "code",
   "execution_count": 33,
   "id": "phantom-fundamentals",
   "metadata": {
    "execution": {
     "iopub.execute_input": "2021-04-26T03:59:16.694432Z",
     "iopub.status.busy": "2021-04-26T03:59:16.693744Z",
     "iopub.status.idle": "2021-04-26T03:59:16.696987Z",
     "shell.execute_reply": "2021-04-26T03:59:16.696333Z"
    },
    "papermill": {
     "duration": 0.075512,
     "end_time": "2021-04-26T03:59:16.697137",
     "exception": false,
     "start_time": "2021-04-26T03:59:16.621625",
     "status": "completed"
    },
    "tags": []
   },
   "outputs": [],
   "source": [
    "num_cols = ['Age', 'Num_family', 'Fare']\n",
    "\n",
    "cat_cols = ['Pclass', 'Ticket', 'Embarked', 'Cabin']\n",
    "\n",
    "bin_cols = ['Sex']"
   ]
  },
  {
   "cell_type": "code",
   "execution_count": 34,
   "id": "sized-respondent",
   "metadata": {
    "execution": {
     "iopub.execute_input": "2021-04-26T03:59:16.857468Z",
     "iopub.status.busy": "2021-04-26T03:59:16.856742Z",
     "iopub.status.idle": "2021-04-26T03:59:17.947538Z",
     "shell.execute_reply": "2021-04-26T03:59:17.946907Z"
    },
    "papermill": {
     "duration": 1.182491,
     "end_time": "2021-04-26T03:59:17.947673",
     "exception": false,
     "start_time": "2021-04-26T03:59:16.765182",
     "status": "completed"
    },
    "tags": []
   },
   "outputs": [
    {
     "data": {
      "image/png": "[encoded data removed]",
      "text/plain": [
       "<Figure size 432x288 with 1 Axes>"
      ]
     },
     "metadata": {
      "needs_background": "light"
     },
     "output_type": "display_data"
    },
    {
     "data": {
      "image/png": "[encoded data removed]",
      "text/plain": [
       "<Figure size 432x288 with 1 Axes>"
      ]
     },
     "metadata": {
      "needs_background": "light"
     },
     "output_type": "display_data"
    },
    {
     "data": {
      "image/png": "[encoded data removed]",
      "text/plain": [
       "<Figure size 432x288 with 1 Axes>"
      ]
     },
     "metadata": {
      "needs_background": "light"
     },
     "output_type": "display_data"
    }
   ],
   "source": [
    "# Graphs of distributions of numerical features\n",
    "for i in num_cols:\n",
    "    plt.figure()\n",
    "    sns.distplot(train[i][train.Survived == 0], kde = False, rug=False, label = 'Survived_0')\n",
    "    sns.distplot(train[i][train.Survived == 1], kde = False, rug=False, label = 'Survived_1')\n",
    "    plt.title(i)\n",
    "    plt.legend()\n",
    "    plt.show()"
   ]
  },
  {
   "cell_type": "code",
   "execution_count": 35,
   "id": "norman-wireless",
   "metadata": {
    "execution": {
     "iopub.execute_input": "2021-04-26T03:59:18.123442Z",
     "iopub.status.busy": "2021-04-26T03:59:18.096921Z",
     "iopub.status.idle": "2021-04-26T03:59:18.349712Z",
     "shell.execute_reply": "2021-04-26T03:59:18.350212Z"
    },
    "papermill": {
     "duration": 0.332597,
     "end_time": "2021-04-26T03:59:18.350402",
     "exception": false,
     "start_time": "2021-04-26T03:59:18.017805",
     "status": "completed"
    },
    "tags": []
   },
   "outputs": [
    {
     "data": {
      "text/plain": [
       "<AxesSubplot:>"
      ]
     },
     "execution_count": 35,
     "metadata": {},
     "output_type": "execute_result"
    },
    {
     "data": {
      "image/png": "[encoded data removed]",
      "text/plain": [
       "<Figure size 432x288 with 2 Axes>"
      ]
     },
     "metadata": {
      "needs_background": "light"
     },
     "output_type": "display_data"
    }
   ],
   "source": [
    "# heat map of numerical features\n",
    "sns.heatmap(train[num_cols].corr().abs(), vmin=0, vmax=1, annot = True)"
   ]
  },
  {
   "cell_type": "markdown",
   "id": "dangerous-slope",
   "metadata": {
    "papermill": {
     "duration": 0.081901,
     "end_time": "2021-04-26T03:59:18.534336",
     "exception": false,
     "start_time": "2021-04-26T03:59:18.452435",
     "status": "completed"
    },
    "tags": []
   },
   "source": [
    "Age, Cabin, Sex, Embarked, Fare."
   ]
  },
  {
   "cell_type": "code",
   "execution_count": 36,
   "id": "thorough-declaration",
   "metadata": {
    "execution": {
     "iopub.execute_input": "2021-04-26T03:59:18.682786Z",
     "iopub.status.busy": "2021-04-26T03:59:18.681861Z",
     "iopub.status.idle": "2021-04-26T03:59:18.687275Z",
     "shell.execute_reply": "2021-04-26T03:59:18.687707Z"
    },
    "papermill": {
     "duration": 0.080249,
     "end_time": "2021-04-26T03:59:18.687890",
     "exception": false,
     "start_time": "2021-04-26T03:59:18.607641",
     "status": "completed"
    },
    "tags": []
   },
   "outputs": [],
   "source": [
    "train.Age = train.Age // 5\n",
    "test.Age = test.Age // 5"
   ]
  },
  {
   "cell_type": "code",
   "execution_count": 37,
   "id": "minor-beginning",
   "metadata": {
    "execution": {
     "iopub.execute_input": "2021-04-26T03:59:18.837722Z",
     "iopub.status.busy": "2021-04-26T03:59:18.837084Z",
     "iopub.status.idle": "2021-04-26T03:59:18.840049Z",
     "shell.execute_reply": "2021-04-26T03:59:18.839564Z"
    },
    "papermill": {
     "duration": 0.080972,
     "end_time": "2021-04-26T03:59:18.840185",
     "exception": false,
     "start_time": "2021-04-26T03:59:18.759213",
     "status": "completed"
    },
    "tags": []
   },
   "outputs": [],
   "source": [
    "train['Cabin'] = LabelEncoder().fit_transform(train['Cabin'])\n",
    "test['Cabin'] = LabelEncoder().fit_transform(test['Cabin'])"
   ]
  },
  {
   "cell_type": "code",
   "execution_count": 38,
   "id": "conservative-venture",
   "metadata": {
    "execution": {
     "iopub.execute_input": "2021-04-26T03:59:18.991702Z",
     "iopub.status.busy": "2021-04-26T03:59:18.991088Z",
     "iopub.status.idle": "2021-04-26T03:59:18.993636Z",
     "shell.execute_reply": "2021-04-26T03:59:18.994137Z"
    },
    "papermill": {
     "duration": 0.081517,
     "end_time": "2021-04-26T03:59:18.994304",
     "exception": false,
     "start_time": "2021-04-26T03:59:18.912787",
     "status": "completed"
    },
    "tags": []
   },
   "outputs": [],
   "source": [
    "train['Sex'] = LabelEncoder().fit_transform(train['Sex'])\n",
    "test['Sex'] = LabelEncoder().fit_transform(test['Sex'])"
   ]
  },
  {
   "cell_type": "code",
   "execution_count": 39,
   "id": "greek-cisco",
   "metadata": {
    "execution": {
     "iopub.execute_input": "2021-04-26T03:59:19.145579Z",
     "iopub.status.busy": "2021-04-26T03:59:19.144547Z",
     "iopub.status.idle": "2021-04-26T03:59:19.154292Z",
     "shell.execute_reply": "2021-04-26T03:59:19.153734Z"
    },
    "papermill": {
     "duration": 0.088254,
     "end_time": "2021-04-26T03:59:19.154433",
     "exception": false,
     "start_time": "2021-04-26T03:59:19.066179",
     "status": "completed"
    },
    "tags": []
   },
   "outputs": [
    {
     "data": {
      "text/plain": [
       "Survived  Embarked\n",
       "0         S           427\n",
       "          C            75\n",
       "          Q            47\n",
       "1         S           217\n",
       "          C            93\n",
       "          Q            30\n",
       "Name: Embarked, dtype: int64"
      ]
     },
     "execution_count": 39,
     "metadata": {},
     "output_type": "execute_result"
    }
   ],
   "source": [
    "train.groupby('Survived')['Embarked'].value_counts()"
   ]
  },
  {
   "cell_type": "code",
   "execution_count": 40,
   "id": "solved-interaction",
   "metadata": {
    "execution": {
     "iopub.execute_input": "2021-04-26T03:59:19.303915Z",
     "iopub.status.busy": "2021-04-26T03:59:19.303285Z",
     "iopub.status.idle": "2021-04-26T03:59:19.310158Z",
     "shell.execute_reply": "2021-04-26T03:59:19.310696Z"
    },
    "papermill": {
     "duration": 0.082739,
     "end_time": "2021-04-26T03:59:19.310875",
     "exception": false,
     "start_time": "2021-04-26T03:59:19.228136",
     "status": "completed"
    },
    "tags": []
   },
   "outputs": [],
   "source": [
    "Embarked_dict = {'S': 3, 'Q': 2, 'C': 1}\n",
    "\n",
    "train.Embarked = train['Embarked'].map(Embarked_dict)\n",
    "test.Embarked = test['Embarked'].map(Embarked_dict)"
   ]
  },
  {
   "cell_type": "code",
   "execution_count": 41,
   "id": "narrow-medication",
   "metadata": {
    "execution": {
     "iopub.execute_input": "2021-04-26T03:59:19.460916Z",
     "iopub.status.busy": "2021-04-26T03:59:19.460259Z",
     "iopub.status.idle": "2021-04-26T03:59:19.467656Z",
     "shell.execute_reply": "2021-04-26T03:59:19.468131Z"
    },
    "papermill": {
     "duration": 0.084261,
     "end_time": "2021-04-26T03:59:19.468309",
     "exception": false,
     "start_time": "2021-04-26T03:59:19.384048",
     "status": "completed"
    },
    "tags": []
   },
   "outputs": [
    {
     "data": {
      "text/plain": [
       "2"
      ]
     },
     "execution_count": 41,
     "metadata": {},
     "output_type": "execute_result"
    }
   ],
   "source": [
    "train[(train.Fare < 7) & (train.Survived == 1)].Fare.count()"
   ]
  },
  {
   "cell_type": "code",
   "execution_count": 42,
   "id": "rolled-comment",
   "metadata": {
    "execution": {
     "iopub.execute_input": "2021-04-26T03:59:19.618727Z",
     "iopub.status.busy": "2021-04-26T03:59:19.618008Z",
     "iopub.status.idle": "2021-04-26T03:59:19.625821Z",
     "shell.execute_reply": "2021-04-26T03:59:19.625084Z"
    },
    "papermill": {
     "duration": 0.083504,
     "end_time": "2021-04-26T03:59:19.625984",
     "exception": false,
     "start_time": "2021-04-26T03:59:19.542480",
     "status": "completed"
    },
    "tags": []
   },
   "outputs": [
    {
     "data": {
      "text/plain": [
       "26"
      ]
     },
     "execution_count": 42,
     "metadata": {},
     "output_type": "execute_result"
    }
   ],
   "source": [
    "train[(train.Fare < 7) & (train.Survived == 0)].Fare.count()"
   ]
  },
  {
   "cell_type": "code",
   "execution_count": 43,
   "id": "nuclear-clear",
   "metadata": {
    "execution": {
     "iopub.execute_input": "2021-04-26T03:59:19.817058Z",
     "iopub.status.busy": "2021-04-26T03:59:19.816050Z",
     "iopub.status.idle": "2021-04-26T03:59:19.818948Z",
     "shell.execute_reply": "2021-04-26T03:59:19.818438Z"
    },
    "papermill": {
     "duration": 0.101714,
     "end_time": "2021-04-26T03:59:19.819086",
     "exception": false,
     "start_time": "2021-04-26T03:59:19.717372",
     "status": "completed"
    },
    "tags": []
   },
   "outputs": [],
   "source": [
    "train.Fare = train.Fare.apply(lambda x: x//5 if x >= 7 else 0)\n",
    "test.Fare = test.Fare.apply(lambda x: x//5 if x >= 7 else 0)"
   ]
  },
  {
   "cell_type": "markdown",
   "id": "retained-identity",
   "metadata": {
    "papermill": {
     "duration": 0.073786,
     "end_time": "2021-04-26T03:59:19.966332",
     "exception": false,
     "start_time": "2021-04-26T03:59:19.892546",
     "status": "completed"
    },
    "tags": []
   },
   "source": [
    "# Feature engineering"
   ]
  },
  {
   "cell_type": "code",
   "execution_count": 44,
   "id": "filled-customer",
   "metadata": {
    "execution": {
     "iopub.execute_input": "2021-04-26T03:59:20.127540Z",
     "iopub.status.busy": "2021-04-26T03:59:20.126570Z",
     "iopub.status.idle": "2021-04-26T03:59:20.129429Z",
     "shell.execute_reply": "2021-04-26T03:59:20.129875Z"
    },
    "papermill": {
     "duration": 0.089606,
     "end_time": "2021-04-26T03:59:20.130065",
     "exception": false,
     "start_time": "2021-04-26T03:59:20.040459",
     "status": "completed"
    },
    "tags": []
   },
   "outputs": [],
   "source": [
    "# new features\n",
    "train['Parch_SibSp'] = train['Parch'] * train['SibSp']\n",
    "test['Parch_SibSp'] = test['Parch'] * test['SibSp']\n",
    "\n",
    "train['Age_and_Sex'] = train['Age'] * train['Sex']\n",
    "test['Age_and_Sex'] = test['Age'] * test['Sex'] \n",
    "\n",
    "train['Num_family_in_degree_Sex'] = train['Num_family'] ** (train['Sex'] + 1)\n",
    "test['Num_family_in_degree_Sex'] = test['Num_family'] ** (test['Sex'] + 1)"
   ]
  },
  {
   "cell_type": "code",
   "execution_count": 45,
   "id": "coated-martial",
   "metadata": {
    "execution": {
     "iopub.execute_input": "2021-04-26T03:59:20.282810Z",
     "iopub.status.busy": "2021-04-26T03:59:20.282138Z",
     "iopub.status.idle": "2021-04-26T03:59:20.284000Z",
     "shell.execute_reply": "2021-04-26T03:59:20.284478Z"
    },
    "papermill": {
     "duration": 0.080605,
     "end_time": "2021-04-26T03:59:20.284643",
     "exception": false,
     "start_time": "2021-04-26T03:59:20.204038",
     "status": "completed"
    },
    "tags": []
   },
   "outputs": [],
   "source": [
    "# We add new signs to the corresponding lists\n",
    "num_cols.append('Parch_SibSp')\n",
    "num_cols.append('Age_and_Sex')\n",
    "num_cols.append('Num_family_in_degree_Sex')"
   ]
  },
  {
   "cell_type": "code",
   "execution_count": 46,
   "id": "suspended-series",
   "metadata": {
    "execution": {
     "iopub.execute_input": "2021-04-26T03:59:20.436421Z",
     "iopub.status.busy": "2021-04-26T03:59:20.435752Z",
     "iopub.status.idle": "2021-04-26T03:59:20.443445Z",
     "shell.execute_reply": "2021-04-26T03:59:20.443882Z"
    },
    "papermill": {
     "duration": 0.085411,
     "end_time": "2021-04-26T03:59:20.444063",
     "exception": false,
     "start_time": "2021-04-26T03:59:20.358652",
     "status": "completed"
    },
    "tags": []
   },
   "outputs": [
    {
     "data": {
      "text/plain": [
       "Survived  Pclass\n",
       "0         3         372\n",
       "          2          97\n",
       "          1          80\n",
       "1         1         134\n",
       "          3         119\n",
       "          2          87\n",
       "Name: Pclass, dtype: int64"
      ]
     },
     "execution_count": 46,
     "metadata": {},
     "output_type": "execute_result"
    }
   ],
   "source": [
    "# PClass distribution relative to Survived\n",
    "train.groupby('Survived')['Pclass'].value_counts()"
   ]
  },
  {
   "cell_type": "code",
   "execution_count": 47,
   "id": "accepting-subscriber",
   "metadata": {
    "execution": {
     "iopub.execute_input": "2021-04-26T03:59:20.597503Z",
     "iopub.status.busy": "2021-04-26T03:59:20.596860Z",
     "iopub.status.idle": "2021-04-26T03:59:20.603209Z",
     "shell.execute_reply": "2021-04-26T03:59:20.603730Z"
    },
    "papermill": {
     "duration": 0.084163,
     "end_time": "2021-04-26T03:59:20.603896",
     "exception": false,
     "start_time": "2021-04-26T03:59:20.519733",
     "status": "completed"
    },
    "tags": []
   },
   "outputs": [],
   "source": [
    "#new feature\n",
    "train['Pclass_Sex'] = train['Pclass'] * (train['Sex'] + 1)\n",
    "test['Pclass_Sex'] = test['Pclass'] * (test['Sex'] + 1)"
   ]
  },
  {
   "cell_type": "code",
   "execution_count": 48,
   "id": "signal-guidance",
   "metadata": {
    "execution": {
     "iopub.execute_input": "2021-04-26T03:59:20.756451Z",
     "iopub.status.busy": "2021-04-26T03:59:20.755821Z",
     "iopub.status.idle": "2021-04-26T03:59:20.759587Z",
     "shell.execute_reply": "2021-04-26T03:59:20.760032Z"
    },
    "papermill": {
     "duration": 0.081798,
     "end_time": "2021-04-26T03:59:20.760191",
     "exception": false,
     "start_time": "2021-04-26T03:59:20.678393",
     "status": "completed"
    },
    "tags": []
   },
   "outputs": [],
   "source": [
    "# We add new sign to the corresponding list\n",
    "cat_cols.append('Pclass_Sex')"
   ]
  },
  {
   "cell_type": "code",
   "execution_count": 49,
   "id": "upper-taxation",
   "metadata": {
    "execution": {
     "iopub.execute_input": "2021-04-26T03:59:20.914003Z",
     "iopub.status.busy": "2021-04-26T03:59:20.913347Z",
     "iopub.status.idle": "2021-04-26T03:59:20.922989Z",
     "shell.execute_reply": "2021-04-26T03:59:20.922350Z"
    },
    "papermill": {
     "duration": 0.088358,
     "end_time": "2021-04-26T03:59:20.923125",
     "exception": false,
     "start_time": "2021-04-26T03:59:20.834767",
     "status": "completed"
    },
    "tags": []
   },
   "outputs": [
    {
     "data": {
      "text/plain": [
       "Survived  Pclass_Sex\n",
       "0         6             300\n",
       "          4              91\n",
       "          2              83\n",
       "          3              72\n",
       "          1               3\n",
       "1         2             115\n",
       "          1              89\n",
       "          3              72\n",
       "          6              47\n",
       "          4              17\n",
       "Name: Pclass_Sex, dtype: int64"
      ]
     },
     "execution_count": 49,
     "metadata": {},
     "output_type": "execute_result"
    }
   ],
   "source": [
    "# Pclass_Sex distribution relative to Survived\n",
    "train.groupby('Survived')['Pclass_Sex'].value_counts()"
   ]
  },
  {
   "cell_type": "code",
   "execution_count": 50,
   "id": "driven-acquisition",
   "metadata": {
    "execution": {
     "iopub.execute_input": "2021-04-26T03:59:21.077452Z",
     "iopub.status.busy": "2021-04-26T03:59:21.076805Z",
     "iopub.status.idle": "2021-04-26T03:59:21.084487Z",
     "shell.execute_reply": "2021-04-26T03:59:21.085004Z"
    },
    "papermill": {
     "duration": 0.08654,
     "end_time": "2021-04-26T03:59:21.085164",
     "exception": false,
     "start_time": "2021-04-26T03:59:20.998624",
     "status": "completed"
    },
    "tags": []
   },
   "outputs": [
    {
     "data": {
      "text/plain": [
       "Survived  Num_family\n",
       "0         0             374\n",
       "          1              72\n",
       "          2              43\n",
       "          5              19\n",
       "          4              12\n",
       "          3               8\n",
       "          6               8\n",
       "          10              7\n",
       "          7               6\n",
       "1         0             161\n",
       "          1              89\n",
       "          2              59\n",
       "          3              21\n",
       "          6               4\n",
       "          4               3\n",
       "          5               3\n",
       "Name: Num_family, dtype: int64"
      ]
     },
     "execution_count": 50,
     "metadata": {},
     "output_type": "execute_result"
    }
   ],
   "source": [
    "# Num_family distribution relative to Survived\n",
    "train.groupby('Survived')['Num_family'].value_counts()"
   ]
  },
  {
   "cell_type": "code",
   "execution_count": 51,
   "id": "laden-particle",
   "metadata": {
    "execution": {
     "iopub.execute_input": "2021-04-26T03:59:21.239856Z",
     "iopub.status.busy": "2021-04-26T03:59:21.239197Z",
     "iopub.status.idle": "2021-04-26T03:59:21.246897Z",
     "shell.execute_reply": "2021-04-26T03:59:21.247440Z"
    },
    "papermill": {
     "duration": 0.087003,
     "end_time": "2021-04-26T03:59:21.247599",
     "exception": false,
     "start_time": "2021-04-26T03:59:21.160596",
     "status": "completed"
    },
    "tags": []
   },
   "outputs": [],
   "source": [
    "# new feature\n",
    "train['Alone'] = train['Num_family'].apply(lambda x: 1 if x == 0 else 0)\n",
    "test['Alone'] = test['Num_family'].apply(lambda x: 1 if x == 0 else 0)"
   ]
  },
  {
   "cell_type": "code",
   "execution_count": 52,
   "id": "concerned-seminar",
   "metadata": {
    "execution": {
     "iopub.execute_input": "2021-04-26T03:59:21.402075Z",
     "iopub.status.busy": "2021-04-26T03:59:21.401441Z",
     "iopub.status.idle": "2021-04-26T03:59:21.405019Z",
     "shell.execute_reply": "2021-04-26T03:59:21.405586Z"
    },
    "papermill": {
     "duration": 0.082585,
     "end_time": "2021-04-26T03:59:21.405737",
     "exception": false,
     "start_time": "2021-04-26T03:59:21.323152",
     "status": "completed"
    },
    "tags": []
   },
   "outputs": [],
   "source": [
    "# We add new sign to the corresponding list\n",
    "bin_cols.append('Alone')"
   ]
  },
  {
   "cell_type": "code",
   "execution_count": 53,
   "id": "endangered-smith",
   "metadata": {
    "execution": {
     "iopub.execute_input": "2021-04-26T03:59:21.561280Z",
     "iopub.status.busy": "2021-04-26T03:59:21.560676Z",
     "iopub.status.idle": "2021-04-26T03:59:21.571871Z",
     "shell.execute_reply": "2021-04-26T03:59:21.572384Z"
    },
    "papermill": {
     "duration": 0.091079,
     "end_time": "2021-04-26T03:59:21.572550",
     "exception": false,
     "start_time": "2021-04-26T03:59:21.481471",
     "status": "completed"
    },
    "tags": []
   },
   "outputs": [
    {
     "data": {
      "text/plain": [
       "Survived  Ticket          \n",
       "0         347082              7\n",
       "          CA. 2343            7\n",
       "          3101295             6\n",
       "          347088              6\n",
       "          CA 2144             6\n",
       "                             ..\n",
       "1         STON/O2. 3101282    1\n",
       "          STON/O2. 3101283    1\n",
       "          SW/PP 751           1\n",
       "          W./C. 14258         1\n",
       "          WE/P 5735           1\n",
       "Name: Ticket, Length: 729, dtype: int64"
      ]
     },
     "execution_count": 53,
     "metadata": {},
     "output_type": "execute_result"
    }
   ],
   "source": [
    "# Ticket distribution relative to Survived\n",
    "train.groupby('Survived')['Ticket'].value_counts()"
   ]
  },
  {
   "cell_type": "code",
   "execution_count": 54,
   "id": "parental-credits",
   "metadata": {
    "execution": {
     "iopub.execute_input": "2021-04-26T03:59:21.728033Z",
     "iopub.status.busy": "2021-04-26T03:59:21.727386Z",
     "iopub.status.idle": "2021-04-26T03:59:21.735498Z",
     "shell.execute_reply": "2021-04-26T03:59:21.736002Z"
    },
    "papermill": {
     "duration": 0.087513,
     "end_time": "2021-04-26T03:59:21.736181",
     "exception": false,
     "start_time": "2021-04-26T03:59:21.648668",
     "status": "completed"
    },
    "tags": []
   },
   "outputs": [
    {
     "data": {
      "text/plain": [
       "array(['373450', '349909', '347742', '347082', '345763', '349909',\n",
       "       '347077', '349216', '345764', '349253', '349237', 'C.A. 34651',\n",
       "       '347088', 'S.P. 3464', '348123', '349208', '345767', '345779',\n",
       "       '343275', '343276', '347466', 'W.E.P. 5734', '349245', '349215',\n",
       "       '349207', '343120', '349249', '347082', '347061', '349241', '7534',\n",
       "       '347081', 'CA. 2343', '347068', '347088', '347742', 'CA. 2343',\n",
       "       '347077', '349247', '234604', '345770', 'CA. 2343', '347054',\n",
       "       '349234', 'PP 4348', '347067', '347077', '347071', '347054',\n",
       "       '347077', '347083', '347073', '347464', '345778', '349239',\n",
       "       '345774', '349206', '349236', '349233', '9234', '349243', '347470',\n",
       "       '349219', '234818', 'CA. 2343', '345364', '345764', '349225',\n",
       "       '349237', '345783', '347088', '349909', '347069', '349227',\n",
       "       '350034', '341826', '347064', '349222', '343095', '345773',\n",
       "       '349254', '347080', 'A/4. 34244', '345769', '347076', '230434',\n",
       "       'C.A. 34651', '349240', '234360', 'C.A. 34651', '3460', '4134',\n",
       "       '349209', 'C.A. 34260', '349242', '349252', '347082', '347082',\n",
       "       '347085', '345572', '349251', '349205', '349909', '3411', '345773',\n",
       "       '349214', '349910', '349246', '347082', '347080', '349224',\n",
       "       '334912', '347743', '347088', '347088', '349231', '349221',\n",
       "       '349223', '349210', '234686', '349912', '342826', '349228',\n",
       "       '349256', '348121', '348124', '34218', '347062', '349201',\n",
       "       '349218', '345780', '349204', '347074', '345781', '347078',\n",
       "       'CA. 2343', '349203', '349244', '345773', '347089', '347063',\n",
       "       '347087', '3474', '347082', '347088', '347468', 'CA. 2343',\n",
       "       '349213', '347082', '347060', '28134', 'CA. 2343', '345777',\n",
       "       '347742', '349248', '345765', '7534', '349212', '349217', '349257',\n",
       "       'C.A./SOTON 34068'], dtype=object)"
      ]
     },
     "execution_count": 54,
     "metadata": {},
     "output_type": "execute_result"
    }
   ],
   "source": [
    "# Create an array of tickets containing \"34\" in the record\n",
    "Contain_34 = train[train.Ticket.str.contains('34')].Ticket.values\n",
    "Contain_34"
   ]
  },
  {
   "cell_type": "code",
   "execution_count": 55,
   "id": "stone-subject",
   "metadata": {
    "execution": {
     "iopub.execute_input": "2021-04-26T03:59:21.893851Z",
     "iopub.status.busy": "2021-04-26T03:59:21.893163Z",
     "iopub.status.idle": "2021-04-26T03:59:21.921519Z",
     "shell.execute_reply": "2021-04-26T03:59:21.921996Z"
    },
    "papermill": {
     "duration": 0.109086,
     "end_time": "2021-04-26T03:59:21.922172",
     "exception": false,
     "start_time": "2021-04-26T03:59:21.813086",
     "status": "completed"
    },
    "tags": []
   },
   "outputs": [],
   "source": [
    "#new feature\n",
    "train['Ticket_34'] = train['Ticket'].apply(lambda s: 1 if s in Contain_34 else 0)\n",
    "test['Ticket_34'] = test['Ticket'].apply(lambda s: 1 if s in Contain_34 else 0)"
   ]
  },
  {
   "cell_type": "code",
   "execution_count": 56,
   "id": "emotional-messaging",
   "metadata": {
    "execution": {
     "iopub.execute_input": "2021-04-26T03:59:22.080095Z",
     "iopub.status.busy": "2021-04-26T03:59:22.079455Z",
     "iopub.status.idle": "2021-04-26T03:59:22.088408Z",
     "shell.execute_reply": "2021-04-26T03:59:22.087830Z"
    },
    "papermill": {
     "duration": 0.088908,
     "end_time": "2021-04-26T03:59:22.088540",
     "exception": false,
     "start_time": "2021-04-26T03:59:21.999632",
     "status": "completed"
    },
    "tags": []
   },
   "outputs": [
    {
     "data": {
      "text/plain": [
       "Survived  Ticket_34\n",
       "0         0            416\n",
       "          1            133\n",
       "1         0            312\n",
       "          1             28\n",
       "Name: Ticket_34, dtype: int64"
      ]
     },
     "execution_count": 56,
     "metadata": {},
     "output_type": "execute_result"
    }
   ],
   "source": [
    "# Ticket_34 distribution relative to Survived\n",
    "train.groupby('Survived')['Ticket_34'].value_counts()"
   ]
  },
  {
   "cell_type": "code",
   "execution_count": 57,
   "id": "completed-gilbert",
   "metadata": {
    "execution": {
     "iopub.execute_input": "2021-04-26T03:59:22.250530Z",
     "iopub.status.busy": "2021-04-26T03:59:22.249856Z",
     "iopub.status.idle": "2021-04-26T03:59:22.252529Z",
     "shell.execute_reply": "2021-04-26T03:59:22.253012Z"
    },
    "papermill": {
     "duration": 0.086844,
     "end_time": "2021-04-26T03:59:22.253202",
     "exception": false,
     "start_time": "2021-04-26T03:59:22.166358",
     "status": "completed"
    },
    "tags": []
   },
   "outputs": [],
   "source": [
    "# Remove the Ticket attribute from the lists, Ticket_34 - add\n",
    "cat_cols.remove('Ticket')\n",
    "bin_cols.append('Ticket_34')"
   ]
  },
  {
   "cell_type": "markdown",
   "id": "greek-screening",
   "metadata": {
    "papermill": {
     "duration": 0.079355,
     "end_time": "2021-04-26T03:59:22.410548",
     "exception": false,
     "start_time": "2021-04-26T03:59:22.331193",
     "status": "completed"
    },
    "tags": []
   },
   "source": [
    "# Visualization and importance"
   ]
  },
  {
   "cell_type": "code",
   "execution_count": 58,
   "id": "absent-reservation",
   "metadata": {
    "execution": {
     "iopub.execute_input": "2021-04-26T03:59:22.575552Z",
     "iopub.status.busy": "2021-04-26T03:59:22.574907Z",
     "iopub.status.idle": "2021-04-26T03:59:23.418602Z",
     "shell.execute_reply": "2021-04-26T03:59:23.417987Z"
    },
    "papermill": {
     "duration": 0.929528,
     "end_time": "2021-04-26T03:59:23.418757",
     "exception": false,
     "start_time": "2021-04-26T03:59:22.489229",
     "status": "completed"
    },
    "tags": []
   },
   "outputs": [
    {
     "data": {
      "image/png": "[encoded data removed]",
      "text/plain": [
       "<Figure size 432x288 with 1 Axes>"
      ]
     },
     "metadata": {
      "needs_background": "light"
     },
     "output_type": "display_data"
    },
    {
     "data": {
      "image/png": "[encoded data removed]",
      "text/plain": [
       "<Figure size 432x288 with 1 Axes>"
      ]
     },
     "metadata": {
      "needs_background": "light"
     },
     "output_type": "display_data"
    },
    {
     "data": {
      "image/png": "[encoded data removed]",
      "text/plain": [
       "<Figure size 432x288 with 1 Axes>"
      ]
     },
     "metadata": {
      "needs_background": "light"
     },
     "output_type": "display_data"
    },
    {
     "data": {
      "image/png": "[encoded data removed]",
      "text/plain": [
       "<Figure size 432x288 with 1 Axes>"
      ]
     },
     "metadata": {
      "needs_background": "light"
     },
     "output_type": "display_data"
    },
    {
     "data": {
      "image/png": "[encoded data removed]",
      "text/plain": [
       "<Figure size 432x288 with 1 Axes>"
      ]
     },
     "metadata": {
      "needs_background": "light"
     },
     "output_type": "display_data"
    },
    {
     "data": {
      "image/png": "[encoded data removed]",
      "text/plain": [
       "<Figure size 432x288 with 1 Axes>"
      ]
     },
     "metadata": {
      "needs_background": "light"
     },
     "output_type": "display_data"
    },
    {
     "data": {
      "image/png": "[encoded data removed]",
      "text/plain": [
       "<Figure size 432x288 with 1 Axes>"
      ]
     },
     "metadata": {
      "needs_background": "light"
     },
     "output_type": "display_data"
    }
   ],
   "source": [
    "# Histograms of the distribution of binary and category features\n",
    "for column in bin_cols+cat_cols:\n",
    "    plt.figure()\n",
    "    sns.countplot(train[column])\n",
    "    plt.title(column)\n",
    "    plt.show()"
   ]
  },
  {
   "cell_type": "code",
   "execution_count": 59,
   "id": "collected-aircraft",
   "metadata": {
    "execution": {
     "iopub.execute_input": "2021-04-26T03:59:23.595877Z",
     "iopub.status.busy": "2021-04-26T03:59:23.595241Z",
     "iopub.status.idle": "2021-04-26T03:59:23.782253Z",
     "shell.execute_reply": "2021-04-26T03:59:23.781699Z"
    },
    "papermill": {
     "duration": 0.279282,
     "end_time": "2021-04-26T03:59:23.782400",
     "exception": false,
     "start_time": "2021-04-26T03:59:23.503118",
     "status": "completed"
    },
    "tags": []
   },
   "outputs": [
    {
     "data": {
      "text/plain": [
       "<AxesSubplot:>"
      ]
     },
     "execution_count": 59,
     "metadata": {},
     "output_type": "execute_result"
    },
    {
     "data": {
      "image/png": "[encoded data removed]",
      "text/plain": [
       "<Figure size 432x288 with 1 Axes>"
      ]
     },
     "metadata": {
      "needs_background": "light"
     },
     "output_type": "display_data"
    }
   ],
   "source": [
    "# Importance of binary and categorical variables\n",
    "imp_cat = Series(mutual_info_classif(train[bin_cols + cat_cols], train['Survived'],\n",
    "                                     discrete_features =True), index = bin_cols + cat_cols)\n",
    "imp_cat.sort_values(inplace = True)\n",
    "imp_cat.plot(kind = 'barh')"
   ]
  },
  {
   "cell_type": "code",
   "execution_count": 60,
   "id": "prompt-source",
   "metadata": {
    "execution": {
     "iopub.execute_input": "2021-04-26T03:59:23.960115Z",
     "iopub.status.busy": "2021-04-26T03:59:23.959425Z",
     "iopub.status.idle": "2021-04-26T03:59:24.107662Z",
     "shell.execute_reply": "2021-04-26T03:59:24.108143Z"
    },
    "papermill": {
     "duration": 0.242164,
     "end_time": "2021-04-26T03:59:24.108315",
     "exception": false,
     "start_time": "2021-04-26T03:59:23.866151",
     "status": "completed"
    },
    "tags": []
   },
   "outputs": [
    {
     "data": {
      "text/plain": [
       "Text(0.5, 0, 'F-value')"
      ]
     },
     "execution_count": 60,
     "metadata": {},
     "output_type": "execute_result"
    },
    {
     "data": {
      "image/png": "[encoded data removed]",
      "text/plain": [
       "<Figure size 432x288 with 1 Axes>"
      ]
     },
     "metadata": {
      "needs_background": "light"
     },
     "output_type": "display_data"
    }
   ],
   "source": [
    "# Importance of numerical variables\n",
    "imp_num = Series(f_classif(train[num_cols], train['Survived'])[0],\n",
    "                 index=num_cols)\n",
    "imp_num.sort_values(inplace=True)\n",
    "imp_num.plot(kind='barh')\n",
    "plt.xlabel('F-value')"
   ]
  },
  {
   "cell_type": "code",
   "execution_count": 61,
   "id": "transsexual-apache",
   "metadata": {
    "execution": {
     "iopub.execute_input": "2021-04-26T03:59:24.286428Z",
     "iopub.status.busy": "2021-04-26T03:59:24.285492Z",
     "iopub.status.idle": "2021-04-26T03:59:24.366025Z",
     "shell.execute_reply": "2021-04-26T03:59:24.365494Z"
    },
    "papermill": {
     "duration": 0.173089,
     "end_time": "2021-04-26T03:59:24.366160",
     "exception": false,
     "start_time": "2021-04-26T03:59:24.193071",
     "status": "completed"
    },
    "tags": []
   },
   "outputs": [
    {
     "data": {
      "text/html": [
       "<style  type=\"text/css\" >\n",
       "#T_cc5f0_row0_col0,#T_cc5f0_row1_col1,#T_cc5f0_row2_col2,#T_cc5f0_row3_col3,#T_cc5f0_row4_col4,#T_cc5f0_row5_col5,#T_cc5f0_row6_col6,#T_cc5f0_row7_col7,#T_cc5f0_row8_col8,#T_cc5f0_row9_col9,#T_cc5f0_row10_col10,#T_cc5f0_row11_col11,#T_cc5f0_row12_col12,#T_cc5f0_row13_col13{\n",
       "            background-color:  #b40426;\n",
       "            color:  #f1f1f1;\n",
       "        }#T_cc5f0_row0_col1,#T_cc5f0_row1_col0,#T_cc5f0_row1_col3{\n",
       "            background-color:  #a6c4fe;\n",
       "            color:  #000000;\n",
       "        }#T_cc5f0_row0_col2,#T_cc5f0_row11_col0{\n",
       "            background-color:  #e1dad6;\n",
       "            color:  #000000;\n",
       "        }#T_cc5f0_row0_col3,#T_cc5f0_row3_col0,#T_cc5f0_row8_col1,#T_cc5f0_row8_col7,#T_cc5f0_row12_col13{\n",
       "            background-color:  #4961d2;\n",
       "            color:  #f1f1f1;\n",
       "        }#T_cc5f0_row0_col4,#T_cc5f0_row1_col9,#T_cc5f0_row2_col3,#T_cc5f0_row10_col0{\n",
       "            background-color:  #4f69d9;\n",
       "            color:  #000000;\n",
       "        }#T_cc5f0_row0_col5{\n",
       "            background-color:  #7396f5;\n",
       "            color:  #000000;\n",
       "        }#T_cc5f0_row0_col6{\n",
       "            background-color:  #98b9ff;\n",
       "            color:  #000000;\n",
       "        }#T_cc5f0_row0_col7,#T_cc5f0_row0_col12,#T_cc5f0_row5_col13,#T_cc5f0_row7_col0,#T_cc5f0_row12_col3{\n",
       "            background-color:  #6b8df0;\n",
       "            color:  #000000;\n",
       "        }#T_cc5f0_row0_col8{\n",
       "            background-color:  #3d50c3;\n",
       "            color:  #f1f1f1;\n",
       "        }#T_cc5f0_row0_col9{\n",
       "            background-color:  #d1dae9;\n",
       "            color:  #000000;\n",
       "        }#T_cc5f0_row0_col10,#T_cc5f0_row3_col2,#T_cc5f0_row9_col6{\n",
       "            background-color:  #455cce;\n",
       "            color:  #f1f1f1;\n",
       "        }#T_cc5f0_row0_col11{\n",
       "            background-color:  #d9dce1;\n",
       "            color:  #000000;\n",
       "        }#T_cc5f0_row0_col13,#T_cc5f0_row12_col0{\n",
       "            background-color:  #799cf8;\n",
       "            color:  #000000;\n",
       "        }#T_cc5f0_row1_col2,#T_cc5f0_row4_col13,#T_cc5f0_row5_col3{\n",
       "            background-color:  #536edd;\n",
       "            color:  #000000;\n",
       "        }#T_cc5f0_row1_col4,#T_cc5f0_row3_col5,#T_cc5f0_row3_col7,#T_cc5f0_row4_col1,#T_cc5f0_row6_col8,#T_cc5f0_row6_col10,#T_cc5f0_row7_col3,#T_cc5f0_row7_col12,#T_cc5f0_row8_col0,#T_cc5f0_row8_col6,#T_cc5f0_row8_col11,#T_cc5f0_row9_col13,#T_cc5f0_row13_col2,#T_cc5f0_row13_col9,#T_cc5f0_row13_col12{\n",
       "            background-color:  #3b4cc0;\n",
       "            color:  #f1f1f1;\n",
       "        }#T_cc5f0_row1_col5{\n",
       "            background-color:  #dedcdb;\n",
       "            color:  #000000;\n",
       "        }#T_cc5f0_row1_col6{\n",
       "            background-color:  #f59d7e;\n",
       "            color:  #000000;\n",
       "        }#T_cc5f0_row1_col7{\n",
       "            background-color:  #688aef;\n",
       "            color:  #000000;\n",
       "        }#T_cc5f0_row1_col8,#T_cc5f0_row7_col8,#T_cc5f0_row10_col7,#T_cc5f0_row10_col9{\n",
       "            background-color:  #4b64d5;\n",
       "            color:  #f1f1f1;\n",
       "        }#T_cc5f0_row1_col10,#T_cc5f0_row7_col9{\n",
       "            background-color:  #4a63d3;\n",
       "            color:  #f1f1f1;\n",
       "        }#T_cc5f0_row1_col11{\n",
       "            background-color:  #f18f71;\n",
       "            color:  #000000;\n",
       "        }#T_cc5f0_row1_col12{\n",
       "            background-color:  #5470de;\n",
       "            color:  #000000;\n",
       "        }#T_cc5f0_row1_col13{\n",
       "            background-color:  #a9c6fd;\n",
       "            color:  #000000;\n",
       "        }#T_cc5f0_row2_col0{\n",
       "            background-color:  #e5d8d1;\n",
       "            color:  #000000;\n",
       "        }#T_cc5f0_row2_col1{\n",
       "            background-color:  #5d7ce6;\n",
       "            color:  #000000;\n",
       "        }#T_cc5f0_row2_col4,#T_cc5f0_row6_col3,#T_cc5f0_row11_col12{\n",
       "            background-color:  #88abfd;\n",
       "            color:  #000000;\n",
       "        }#T_cc5f0_row2_col5,#T_cc5f0_row2_col7,#T_cc5f0_row5_col9{\n",
       "            background-color:  #5673e0;\n",
       "            color:  #000000;\n",
       "        }#T_cc5f0_row2_col6,#T_cc5f0_row3_col13,#T_cc5f0_row7_col11{\n",
       "            background-color:  #5a78e4;\n",
       "            color:  #000000;\n",
       "        }#T_cc5f0_row2_col8,#T_cc5f0_row7_col6,#T_cc5f0_row7_col13,#T_cc5f0_row12_col5{\n",
       "            background-color:  #7a9df8;\n",
       "            color:  #000000;\n",
       "        }#T_cc5f0_row2_col9,#T_cc5f0_row4_col8,#T_cc5f0_row8_col4{\n",
       "            background-color:  #f18d6f;\n",
       "            color:  #000000;\n",
       "        }#T_cc5f0_row2_col10,#T_cc5f0_row4_col7,#T_cc5f0_row10_col2{\n",
       "            background-color:  #4055c8;\n",
       "            color:  #f1f1f1;\n",
       "        }#T_cc5f0_row2_col11{\n",
       "            background-color:  #f5c1a9;\n",
       "            color:  #000000;\n",
       "        }#T_cc5f0_row2_col12,#T_cc5f0_row4_col9{\n",
       "            background-color:  #92b4fe;\n",
       "            color:  #000000;\n",
       "        }#T_cc5f0_row2_col13,#T_cc5f0_row10_col6{\n",
       "            background-color:  #465ecf;\n",
       "            color:  #f1f1f1;\n",
       "        }#T_cc5f0_row3_col1,#T_cc5f0_row13_col1{\n",
       "            background-color:  #a7c5fe;\n",
       "            color:  #000000;\n",
       "        }#T_cc5f0_row3_col4,#T_cc5f0_row4_col3,#T_cc5f0_row8_col2{\n",
       "            background-color:  #6c8ff1;\n",
       "            color:  #000000;\n",
       "        }#T_cc5f0_row3_col6,#T_cc5f0_row5_col0{\n",
       "            background-color:  #8badfd;\n",
       "            color:  #000000;\n",
       "        }#T_cc5f0_row3_col8{\n",
       "            background-color:  #89acfd;\n",
       "            color:  #000000;\n",
       "        }#T_cc5f0_row3_col9{\n",
       "            background-color:  #edd2c3;\n",
       "            color:  #000000;\n",
       "        }#T_cc5f0_row3_col10,#T_cc5f0_row12_col1{\n",
       "            background-color:  #6180e9;\n",
       "            color:  #000000;\n",
       "        }#T_cc5f0_row3_col11{\n",
       "            background-color:  #6282ea;\n",
       "            color:  #000000;\n",
       "        }#T_cc5f0_row3_col12{\n",
       "            background-color:  #5e7de7;\n",
       "            color:  #000000;\n",
       "        }#T_cc5f0_row4_col0,#T_cc5f0_row5_col10,#T_cc5f0_row6_col2{\n",
       "            background-color:  #4e68d8;\n",
       "            color:  #000000;\n",
       "        }#T_cc5f0_row4_col2,#T_cc5f0_row5_col4{\n",
       "            background-color:  #7da0f9;\n",
       "            color:  #000000;\n",
       "        }#T_cc5f0_row4_col5,#T_cc5f0_row8_col5,#T_cc5f0_row8_col13{\n",
       "            background-color:  #6384eb;\n",
       "            color:  #000000;\n",
       "        }#T_cc5f0_row4_col6,#T_cc5f0_row7_col4,#T_cc5f0_row7_col10{\n",
       "            background-color:  #4257c9;\n",
       "            color:  #f1f1f1;\n",
       "        }#T_cc5f0_row4_col10{\n",
       "            background-color:  #bfd3f6;\n",
       "            color:  #000000;\n",
       "        }#T_cc5f0_row4_col11,#T_cc5f0_row13_col5{\n",
       "            background-color:  #506bda;\n",
       "            color:  #000000;\n",
       "        }#T_cc5f0_row4_col12{\n",
       "            background-color:  #ead4c8;\n",
       "            color:  #000000;\n",
       "        }#T_cc5f0_row5_col1{\n",
       "            background-color:  #e8d6cc;\n",
       "            color:  #000000;\n",
       "        }#T_cc5f0_row5_col2,#T_cc5f0_row11_col4,#T_cc5f0_row12_col6,#T_cc5f0_row13_col8{\n",
       "            background-color:  #6485ec;\n",
       "            color:  #000000;\n",
       "        }#T_cc5f0_row5_col6{\n",
       "            background-color:  #e2dad5;\n",
       "            color:  #000000;\n",
       "        }#T_cc5f0_row5_col7,#T_cc5f0_row5_col8,#T_cc5f0_row6_col13,#T_cc5f0_row13_col6{\n",
       "            background-color:  #7ea1fa;\n",
       "            color:  #000000;\n",
       "        }#T_cc5f0_row5_col11{\n",
       "            background-color:  #c7d7f0;\n",
       "            color:  #000000;\n",
       "        }#T_cc5f0_row5_col12{\n",
       "            background-color:  #85a8fc;\n",
       "            color:  #000000;\n",
       "        }#T_cc5f0_row6_col0,#T_cc5f0_row8_col9,#T_cc5f0_row9_col8,#T_cc5f0_row9_col12{\n",
       "            background-color:  #96b7ff;\n",
       "            color:  #000000;\n",
       "        }#T_cc5f0_row6_col1{\n",
       "            background-color:  #f59f80;\n",
       "            color:  #000000;\n",
       "        }#T_cc5f0_row6_col4,#T_cc5f0_row9_col10,#T_cc5f0_row10_col5{\n",
       "            background-color:  #3f53c6;\n",
       "            color:  #f1f1f1;\n",
       "        }#T_cc5f0_row6_col5{\n",
       "            background-color:  #d7dce3;\n",
       "            color:  #000000;\n",
       "        }#T_cc5f0_row6_col7,#T_cc5f0_row13_col0{\n",
       "            background-color:  #7699f6;\n",
       "            color:  #000000;\n",
       "        }#T_cc5f0_row6_col9{\n",
       "            background-color:  #445acc;\n",
       "            color:  #f1f1f1;\n",
       "        }#T_cc5f0_row6_col11{\n",
       "            background-color:  #ead5c9;\n",
       "            color:  #000000;\n",
       "        }#T_cc5f0_row6_col12,#T_cc5f0_row10_col1{\n",
       "            background-color:  #5572df;\n",
       "            color:  #000000;\n",
       "        }#T_cc5f0_row7_col1,#T_cc5f0_row10_col3{\n",
       "            background-color:  #6a8bef;\n",
       "            color:  #000000;\n",
       "        }#T_cc5f0_row7_col2,#T_cc5f0_row9_col1{\n",
       "            background-color:  #4c66d6;\n",
       "            color:  #000000;\n",
       "        }#T_cc5f0_row7_col5{\n",
       "            background-color:  #6687ed;\n",
       "            color:  #000000;\n",
       "        }#T_cc5f0_row8_col3{\n",
       "            background-color:  #86a9fc;\n",
       "            color:  #000000;\n",
       "        }#T_cc5f0_row8_col10{\n",
       "            background-color:  #f7aa8c;\n",
       "            color:  #000000;\n",
       "        }#T_cc5f0_row8_col12{\n",
       "            background-color:  #f7b79b;\n",
       "            color:  #000000;\n",
       "        }#T_cc5f0_row9_col0{\n",
       "            background-color:  #cfdaea;\n",
       "            color:  #000000;\n",
       "        }#T_cc5f0_row9_col2{\n",
       "            background-color:  #f29274;\n",
       "            color:  #000000;\n",
       "        }#T_cc5f0_row9_col3{\n",
       "            background-color:  #ecd3c5;\n",
       "            color:  #000000;\n",
       "        }#T_cc5f0_row9_col4{\n",
       "            background-color:  #90b2fe;\n",
       "            color:  #000000;\n",
       "        }#T_cc5f0_row9_col5{\n",
       "            background-color:  #3c4ec2;\n",
       "            color:  #f1f1f1;\n",
       "        }#T_cc5f0_row9_col7,#T_cc5f0_row10_col11,#T_cc5f0_row12_col7{\n",
       "            background-color:  #485fd1;\n",
       "            color:  #f1f1f1;\n",
       "        }#T_cc5f0_row9_col11{\n",
       "            background-color:  #9fbfff;\n",
       "            color:  #000000;\n",
       "        }#T_cc5f0_row10_col4,#T_cc5f0_row11_col5{\n",
       "            background-color:  #c5d6f2;\n",
       "            color:  #000000;\n",
       "        }#T_cc5f0_row10_col8{\n",
       "            background-color:  #f7a688;\n",
       "            color:  #000000;\n",
       "        }#T_cc5f0_row10_col12,#T_cc5f0_row11_col13{\n",
       "            background-color:  #94b6ff;\n",
       "            color:  #000000;\n",
       "        }#T_cc5f0_row10_col13{\n",
       "            background-color:  #6788ee;\n",
       "            color:  #000000;\n",
       "        }#T_cc5f0_row11_col1{\n",
       "            background-color:  #ef886b;\n",
       "            color:  #000000;\n",
       "        }#T_cc5f0_row11_col2{\n",
       "            background-color:  #f6bea4;\n",
       "            color:  #000000;\n",
       "        }#T_cc5f0_row11_col3{\n",
       "            background-color:  #7597f6;\n",
       "            color:  #000000;\n",
       "        }#T_cc5f0_row11_col6{\n",
       "            background-color:  #efcebd;\n",
       "            color:  #000000;\n",
       "        }#T_cc5f0_row11_col7{\n",
       "            background-color:  #6e90f2;\n",
       "            color:  #000000;\n",
       "        }#T_cc5f0_row11_col8,#T_cc5f0_row11_col10,#T_cc5f0_row13_col4{\n",
       "            background-color:  #516ddb;\n",
       "            color:  #000000;\n",
       "        }#T_cc5f0_row11_col9{\n",
       "            background-color:  #b1cbfc;\n",
       "            color:  #000000;\n",
       "        }#T_cc5f0_row12_col2{\n",
       "            background-color:  #93b5fe;\n",
       "            color:  #000000;\n",
       "        }#T_cc5f0_row12_col4{\n",
       "            background-color:  #eed0c0;\n",
       "            color:  #000000;\n",
       "        }#T_cc5f0_row12_col8{\n",
       "            background-color:  #f7b093;\n",
       "            color:  #000000;\n",
       "        }#T_cc5f0_row12_col9{\n",
       "            background-color:  #a3c2fe;\n",
       "            color:  #000000;\n",
       "        }#T_cc5f0_row12_col10{\n",
       "            background-color:  #97b8ff;\n",
       "            color:  #000000;\n",
       "        }#T_cc5f0_row12_col11{\n",
       "            background-color:  #81a4fb;\n",
       "            color:  #000000;\n",
       "        }#T_cc5f0_row13_col3{\n",
       "            background-color:  #5977e3;\n",
       "            color:  #000000;\n",
       "        }#T_cc5f0_row13_col7{\n",
       "            background-color:  #779af7;\n",
       "            color:  #000000;\n",
       "        }#T_cc5f0_row13_col10{\n",
       "            background-color:  #5b7ae5;\n",
       "            color:  #000000;\n",
       "        }#T_cc5f0_row13_col11{\n",
       "            background-color:  #80a3fa;\n",
       "            color:  #000000;\n",
       "        }</style><table id=\"T_cc5f0_\" ><thead>    <tr>        <th class=\"blank level0\" ></th>        <th class=\"col_heading level0 col0\" >Survived</th>        <th class=\"col_heading level0 col1\" >Pclass</th>        <th class=\"col_heading level0 col2\" >Sex</th>        <th class=\"col_heading level0 col3\" >Age</th>        <th class=\"col_heading level0 col4\" >Parch</th>        <th class=\"col_heading level0 col5\" >Fare</th>        <th class=\"col_heading level0 col6\" >Cabin</th>        <th class=\"col_heading level0 col7\" >Embarked</th>        <th class=\"col_heading level0 col8\" >Num_family</th>        <th class=\"col_heading level0 col9\" >Age_and_Sex</th>        <th class=\"col_heading level0 col10\" >Num_family_in_degree_Sex</th>        <th class=\"col_heading level0 col11\" >Pclass_Sex</th>        <th class=\"col_heading level0 col12\" >Alone</th>        <th class=\"col_heading level0 col13\" >Ticket_34</th>    </tr></thead><tbody>\n",
       "                <tr>\n",
       "                        <th id=\"T_cc5f0_level0_row0\" class=\"row_heading level0 row0\" >Survived</th>\n",
       "                        <td id=\"T_cc5f0_row0_col0\" class=\"data row0 col0\" >1.000</td>\n",
       "                        <td id=\"T_cc5f0_row0_col1\" class=\"data row0 col1\" >0.336</td>\n",
       "                        <td id=\"T_cc5f0_row0_col2\" class=\"data row0 col2\" >0.542</td>\n",
       "                        <td id=\"T_cc5f0_row0_col3\" class=\"data row0 col3\" >0.067</td>\n",
       "                        <td id=\"T_cc5f0_row0_col4\" class=\"data row0 col4\" >0.083</td>\n",
       "                        <td id=\"T_cc5f0_row0_col5\" class=\"data row0 col5\" >0.259</td>\n",
       "                        <td id=\"T_cc5f0_row0_col6\" class=\"data row0 col6\" >0.290</td>\n",
       "                        <td id=\"T_cc5f0_row0_col7\" class=\"data row0 col7\" >0.170</td>\n",
       "                        <td id=\"T_cc5f0_row0_col8\" class=\"data row0 col8\" >0.018</td>\n",
       "                        <td id=\"T_cc5f0_row0_col9\" class=\"data row0 col9\" >0.461</td>\n",
       "                        <td id=\"T_cc5f0_row0_col10\" class=\"data row0 col10\" >0.087</td>\n",
       "                        <td id=\"T_cc5f0_row0_col11\" class=\"data row0 col11\" >0.528</td>\n",
       "                        <td id=\"T_cc5f0_row0_col12\" class=\"data row0 col12\" >0.206</td>\n",
       "                        <td id=\"T_cc5f0_row0_col13\" class=\"data row0 col13\" >0.202</td>\n",
       "            </tr>\n",
       "            <tr>\n",
       "                        <th id=\"T_cc5f0_level0_row1\" class=\"row_heading level0 row1\" >Pclass</th>\n",
       "                        <td id=\"T_cc5f0_row1_col0\" class=\"data row1 col0\" >0.336</td>\n",
       "                        <td id=\"T_cc5f0_row1_col1\" class=\"data row1 col1\" >1.000</td>\n",
       "                        <td id=\"T_cc5f0_row1_col2\" class=\"data row1 col2\" >0.128</td>\n",
       "                        <td id=\"T_cc5f0_row1_col3\" class=\"data row1 col3\" >0.337</td>\n",
       "                        <td id=\"T_cc5f0_row1_col4\" class=\"data row1 col4\" >0.017</td>\n",
       "                        <td id=\"T_cc5f0_row1_col5\" class=\"data row1 col5\" >0.554</td>\n",
       "                        <td id=\"T_cc5f0_row1_col6\" class=\"data row1 col6\" >0.742</td>\n",
       "                        <td id=\"T_cc5f0_row1_col7\" class=\"data row1 col7\" >0.165</td>\n",
       "                        <td id=\"T_cc5f0_row1_col8\" class=\"data row1 col8\" >0.064</td>\n",
       "                        <td id=\"T_cc5f0_row1_col9\" class=\"data row1 col9\" >0.078</td>\n",
       "                        <td id=\"T_cc5f0_row1_col10\" class=\"data row1 col10\" >0.102</td>\n",
       "                        <td id=\"T_cc5f0_row1_col11\" class=\"data row1 col11\" >0.796</td>\n",
       "                        <td id=\"T_cc5f0_row1_col12\" class=\"data row1 col12\" >0.139</td>\n",
       "                        <td id=\"T_cc5f0_row1_col13\" class=\"data row1 col13\" >0.339</td>\n",
       "            </tr>\n",
       "            <tr>\n",
       "                        <th id=\"T_cc5f0_level0_row2\" class=\"row_heading level0 row2\" >Sex</th>\n",
       "                        <td id=\"T_cc5f0_row2_col0\" class=\"data row2 col0\" >0.542</td>\n",
       "                        <td id=\"T_cc5f0_row2_col1\" class=\"data row2 col1\" >0.128</td>\n",
       "                        <td id=\"T_cc5f0_row2_col2\" class=\"data row2 col2\" >1.000</td>\n",
       "                        <td id=\"T_cc5f0_row2_col3\" class=\"data row2 col3\" >0.087</td>\n",
       "                        <td id=\"T_cc5f0_row2_col4\" class=\"data row2 col4\" >0.248</td>\n",
       "                        <td id=\"T_cc5f0_row2_col5\" class=\"data row2 col5\" >0.180</td>\n",
       "                        <td id=\"T_cc5f0_row2_col6\" class=\"data row2 col6\" >0.112</td>\n",
       "                        <td id=\"T_cc5f0_row2_col7\" class=\"data row2 col7\" >0.110</td>\n",
       "                        <td id=\"T_cc5f0_row2_col8\" class=\"data row2 col8\" >0.203</td>\n",
       "                        <td id=\"T_cc5f0_row2_col9\" class=\"data row2 col9\" >0.780</td>\n",
       "                        <td id=\"T_cc5f0_row2_col10\" class=\"data row2 col10\" >0.072</td>\n",
       "                        <td id=\"T_cc5f0_row2_col11\" class=\"data row2 col11\" >0.664</td>\n",
       "                        <td id=\"T_cc5f0_row2_col12\" class=\"data row2 col12\" >0.307</td>\n",
       "                        <td id=\"T_cc5f0_row2_col13\" class=\"data row2 col13\" >0.052</td>\n",
       "            </tr>\n",
       "            <tr>\n",
       "                        <th id=\"T_cc5f0_level0_row3\" class=\"row_heading level0 row3\" >Age</th>\n",
       "                        <td id=\"T_cc5f0_row3_col0\" class=\"data row3 col0\" >0.067</td>\n",
       "                        <td id=\"T_cc5f0_row3_col1\" class=\"data row3 col1\" >0.337</td>\n",
       "                        <td id=\"T_cc5f0_row3_col2\" class=\"data row3 col2\" >0.087</td>\n",
       "                        <td id=\"T_cc5f0_row3_col3\" class=\"data row3 col3\" >1.000</td>\n",
       "                        <td id=\"T_cc5f0_row3_col4\" class=\"data row3 col4\" >0.173</td>\n",
       "                        <td id=\"T_cc5f0_row3_col5\" class=\"data row3 col5\" >0.098</td>\n",
       "                        <td id=\"T_cc5f0_row3_col6\" class=\"data row3 col6\" >0.250</td>\n",
       "                        <td id=\"T_cc5f0_row3_col7\" class=\"data row3 col7\" >0.020</td>\n",
       "                        <td id=\"T_cc5f0_row3_col8\" class=\"data row3 col8\" >0.247</td>\n",
       "                        <td id=\"T_cc5f0_row3_col9\" class=\"data row3 col9\" >0.574</td>\n",
       "                        <td id=\"T_cc5f0_row3_col10\" class=\"data row3 col10\" >0.169</td>\n",
       "                        <td id=\"T_cc5f0_row3_col11\" class=\"data row3 col11\" >0.199</td>\n",
       "                        <td id=\"T_cc5f0_row3_col12\" class=\"data row3 col12\" >0.170</td>\n",
       "                        <td id=\"T_cc5f0_row3_col13\" class=\"data row3 col13\" >0.116</td>\n",
       "            </tr>\n",
       "            <tr>\n",
       "                        <th id=\"T_cc5f0_level0_row4\" class=\"row_heading level0 row4\" >Parch</th>\n",
       "                        <td id=\"T_cc5f0_row4_col0\" class=\"data row4 col0\" >0.083</td>\n",
       "                        <td id=\"T_cc5f0_row4_col1\" class=\"data row4 col1\" >0.017</td>\n",
       "                        <td id=\"T_cc5f0_row4_col2\" class=\"data row4 col2\" >0.248</td>\n",
       "                        <td id=\"T_cc5f0_row4_col3\" class=\"data row4 col3\" >0.173</td>\n",
       "                        <td id=\"T_cc5f0_row4_col4\" class=\"data row4 col4\" >1.000</td>\n",
       "                        <td id=\"T_cc5f0_row4_col5\" class=\"data row4 col5\" >0.218</td>\n",
       "                        <td id=\"T_cc5f0_row4_col6\" class=\"data row4 col6\" >0.034</td>\n",
       "                        <td id=\"T_cc5f0_row4_col7\" class=\"data row4 col7\" >0.040</td>\n",
       "                        <td id=\"T_cc5f0_row4_col8\" class=\"data row4 col8\" >0.783</td>\n",
       "                        <td id=\"T_cc5f0_row4_col9\" class=\"data row4 col9\" >0.272</td>\n",
       "                        <td id=\"T_cc5f0_row4_col10\" class=\"data row4 col10\" >0.427</td>\n",
       "                        <td id=\"T_cc5f0_row4_col11\" class=\"data row4 col11\" >0.150</td>\n",
       "                        <td id=\"T_cc5f0_row4_col12\" class=\"data row4 col12\" >0.583</td>\n",
       "                        <td id=\"T_cc5f0_row4_col13\" class=\"data row4 col13\" >0.092</td>\n",
       "            </tr>\n",
       "            <tr>\n",
       "                        <th id=\"T_cc5f0_level0_row5\" class=\"row_heading level0 row5\" >Fare</th>\n",
       "                        <td id=\"T_cc5f0_row5_col0\" class=\"data row5 col0\" >0.259</td>\n",
       "                        <td id=\"T_cc5f0_row5_col1\" class=\"data row5 col1\" >0.554</td>\n",
       "                        <td id=\"T_cc5f0_row5_col2\" class=\"data row5 col2\" >0.180</td>\n",
       "                        <td id=\"T_cc5f0_row5_col3\" class=\"data row5 col3\" >0.098</td>\n",
       "                        <td id=\"T_cc5f0_row5_col4\" class=\"data row5 col4\" >0.218</td>\n",
       "                        <td id=\"T_cc5f0_row5_col5\" class=\"data row5 col5\" >1.000</td>\n",
       "                        <td id=\"T_cc5f0_row5_col6\" class=\"data row5 col6\" >0.528</td>\n",
       "                        <td id=\"T_cc5f0_row5_col7\" class=\"data row5 col7\" >0.224</td>\n",
       "                        <td id=\"T_cc5f0_row5_col8\" class=\"data row5 col8\" >0.218</td>\n",
       "                        <td id=\"T_cc5f0_row5_col9\" class=\"data row5 col9\" >0.104</td>\n",
       "                        <td id=\"T_cc5f0_row5_col10\" class=\"data row5 col10\" >0.113</td>\n",
       "                        <td id=\"T_cc5f0_row5_col11\" class=\"data row5 col11\" >0.473</td>\n",
       "                        <td id=\"T_cc5f0_row5_col12\" class=\"data row5 col12\" >0.275</td>\n",
       "                        <td id=\"T_cc5f0_row5_col13\" class=\"data row5 col13\" >0.164</td>\n",
       "            </tr>\n",
       "            <tr>\n",
       "                        <th id=\"T_cc5f0_level0_row6\" class=\"row_heading level0 row6\" >Cabin</th>\n",
       "                        <td id=\"T_cc5f0_row6_col0\" class=\"data row6 col0\" >0.290</td>\n",
       "                        <td id=\"T_cc5f0_row6_col1\" class=\"data row6 col1\" >0.742</td>\n",
       "                        <td id=\"T_cc5f0_row6_col2\" class=\"data row6 col2\" >0.112</td>\n",
       "                        <td id=\"T_cc5f0_row6_col3\" class=\"data row6 col3\" >0.250</td>\n",
       "                        <td id=\"T_cc5f0_row6_col4\" class=\"data row6 col4\" >0.034</td>\n",
       "                        <td id=\"T_cc5f0_row6_col5\" class=\"data row6 col5\" >0.528</td>\n",
       "                        <td id=\"T_cc5f0_row6_col6\" class=\"data row6 col6\" >1.000</td>\n",
       "                        <td id=\"T_cc5f0_row6_col7\" class=\"data row6 col7\" >0.204</td>\n",
       "                        <td id=\"T_cc5f0_row6_col8\" class=\"data row6 col8\" >0.010</td>\n",
       "                        <td id=\"T_cc5f0_row6_col9\" class=\"data row6 col9\" >0.045</td>\n",
       "                        <td id=\"T_cc5f0_row6_col10\" class=\"data row6 col10\" >0.051</td>\n",
       "                        <td id=\"T_cc5f0_row6_col11\" class=\"data row6 col11\" >0.590</td>\n",
       "                        <td id=\"T_cc5f0_row6_col12\" class=\"data row6 col12\" >0.143</td>\n",
       "                        <td id=\"T_cc5f0_row6_col13\" class=\"data row6 col13\" >0.217</td>\n",
       "            </tr>\n",
       "            <tr>\n",
       "                        <th id=\"T_cc5f0_level0_row7\" class=\"row_heading level0 row7\" >Embarked</th>\n",
       "                        <td id=\"T_cc5f0_row7_col0\" class=\"data row7 col0\" >0.170</td>\n",
       "                        <td id=\"T_cc5f0_row7_col1\" class=\"data row7 col1\" >0.165</td>\n",
       "                        <td id=\"T_cc5f0_row7_col2\" class=\"data row7 col2\" >0.110</td>\n",
       "                        <td id=\"T_cc5f0_row7_col3\" class=\"data row7 col3\" >0.020</td>\n",
       "                        <td id=\"T_cc5f0_row7_col4\" class=\"data row7 col4\" >0.040</td>\n",
       "                        <td id=\"T_cc5f0_row7_col5\" class=\"data row7 col5\" >0.224</td>\n",
       "                        <td id=\"T_cc5f0_row7_col6\" class=\"data row7 col6\" >0.204</td>\n",
       "                        <td id=\"T_cc5f0_row7_col7\" class=\"data row7 col7\" >1.000</td>\n",
       "                        <td id=\"T_cc5f0_row7_col8\" class=\"data row7 col8\" >0.067</td>\n",
       "                        <td id=\"T_cc5f0_row7_col9\" class=\"data row7 col9\" >0.063</td>\n",
       "                        <td id=\"T_cc5f0_row7_col10\" class=\"data row7 col10\" >0.076</td>\n",
       "                        <td id=\"T_cc5f0_row7_col11\" class=\"data row7 col11\" >0.178</td>\n",
       "                        <td id=\"T_cc5f0_row7_col12\" class=\"data row7 col12\" >0.063</td>\n",
       "                        <td id=\"T_cc5f0_row7_col13\" class=\"data row7 col13\" >0.206</td>\n",
       "            </tr>\n",
       "            <tr>\n",
       "                        <th id=\"T_cc5f0_level0_row8\" class=\"row_heading level0 row8\" >Num_family</th>\n",
       "                        <td id=\"T_cc5f0_row8_col0\" class=\"data row8 col0\" >0.018</td>\n",
       "                        <td id=\"T_cc5f0_row8_col1\" class=\"data row8 col1\" >0.064</td>\n",
       "                        <td id=\"T_cc5f0_row8_col2\" class=\"data row8 col2\" >0.203</td>\n",
       "                        <td id=\"T_cc5f0_row8_col3\" class=\"data row8 col3\" >0.247</td>\n",
       "                        <td id=\"T_cc5f0_row8_col4\" class=\"data row8 col4\" >0.783</td>\n",
       "                        <td id=\"T_cc5f0_row8_col5\" class=\"data row8 col5\" >0.218</td>\n",
       "                        <td id=\"T_cc5f0_row8_col6\" class=\"data row8 col6\" >0.010</td>\n",
       "                        <td id=\"T_cc5f0_row8_col7\" class=\"data row8 col7\" >0.067</td>\n",
       "                        <td id=\"T_cc5f0_row8_col8\" class=\"data row8 col8\" >1.000</td>\n",
       "                        <td id=\"T_cc5f0_row8_col9\" class=\"data row8 col9\" >0.283</td>\n",
       "                        <td id=\"T_cc5f0_row8_col10\" class=\"data row8 col10\" >0.720</td>\n",
       "                        <td id=\"T_cc5f0_row8_col11\" class=\"data row8 col11\" >0.084</td>\n",
       "                        <td id=\"T_cc5f0_row8_col12\" class=\"data row8 col12\" >0.691</td>\n",
       "                        <td id=\"T_cc5f0_row8_col13\" class=\"data row8 col13\" >0.143</td>\n",
       "            </tr>\n",
       "            <tr>\n",
       "                        <th id=\"T_cc5f0_level0_row9\" class=\"row_heading level0 row9\" >Age_and_Sex</th>\n",
       "                        <td id=\"T_cc5f0_row9_col0\" class=\"data row9 col0\" >0.461</td>\n",
       "                        <td id=\"T_cc5f0_row9_col1\" class=\"data row9 col1\" >0.078</td>\n",
       "                        <td id=\"T_cc5f0_row9_col2\" class=\"data row9 col2\" >0.780</td>\n",
       "                        <td id=\"T_cc5f0_row9_col3\" class=\"data row9 col3\" >0.574</td>\n",
       "                        <td id=\"T_cc5f0_row9_col4\" class=\"data row9 col4\" >0.272</td>\n",
       "                        <td id=\"T_cc5f0_row9_col5\" class=\"data row9 col5\" >0.104</td>\n",
       "                        <td id=\"T_cc5f0_row9_col6\" class=\"data row9 col6\" >0.045</td>\n",
       "                        <td id=\"T_cc5f0_row9_col7\" class=\"data row9 col7\" >0.063</td>\n",
       "                        <td id=\"T_cc5f0_row9_col8\" class=\"data row9 col8\" >0.283</td>\n",
       "                        <td id=\"T_cc5f0_row9_col9\" class=\"data row9 col9\" >1.000</td>\n",
       "                        <td id=\"T_cc5f0_row9_col10\" class=\"data row9 col10\" >0.069</td>\n",
       "                        <td id=\"T_cc5f0_row9_col11\" class=\"data row9 col11\" >0.361</td>\n",
       "                        <td id=\"T_cc5f0_row9_col12\" class=\"data row9 col12\" >0.321</td>\n",
       "                        <td id=\"T_cc5f0_row9_col13\" class=\"data row9 col13\" >0.012</td>\n",
       "            </tr>\n",
       "            <tr>\n",
       "                        <th id=\"T_cc5f0_level0_row10\" class=\"row_heading level0 row10\" >Num_family_in_degree_Sex</th>\n",
       "                        <td id=\"T_cc5f0_row10_col0\" class=\"data row10 col0\" >0.087</td>\n",
       "                        <td id=\"T_cc5f0_row10_col1\" class=\"data row10 col1\" >0.102</td>\n",
       "                        <td id=\"T_cc5f0_row10_col2\" class=\"data row10 col2\" >0.072</td>\n",
       "                        <td id=\"T_cc5f0_row10_col3\" class=\"data row10 col3\" >0.169</td>\n",
       "                        <td id=\"T_cc5f0_row10_col4\" class=\"data row10 col4\" >0.427</td>\n",
       "                        <td id=\"T_cc5f0_row10_col5\" class=\"data row10 col5\" >0.113</td>\n",
       "                        <td id=\"T_cc5f0_row10_col6\" class=\"data row10 col6\" >0.051</td>\n",
       "                        <td id=\"T_cc5f0_row10_col7\" class=\"data row10 col7\" >0.076</td>\n",
       "                        <td id=\"T_cc5f0_row10_col8\" class=\"data row10 col8\" >0.720</td>\n",
       "                        <td id=\"T_cc5f0_row10_col9\" class=\"data row10 col9\" >0.069</td>\n",
       "                        <td id=\"T_cc5f0_row10_col10\" class=\"data row10 col10\" >1.000</td>\n",
       "                        <td id=\"T_cc5f0_row10_col11\" class=\"data row10 col11\" >0.124</td>\n",
       "                        <td id=\"T_cc5f0_row10_col12\" class=\"data row10 col12\" >0.317</td>\n",
       "                        <td id=\"T_cc5f0_row10_col13\" class=\"data row10 col13\" >0.152</td>\n",
       "            </tr>\n",
       "            <tr>\n",
       "                        <th id=\"T_cc5f0_level0_row11\" class=\"row_heading level0 row11\" >Pclass_Sex</th>\n",
       "                        <td id=\"T_cc5f0_row11_col0\" class=\"data row11 col0\" >0.528</td>\n",
       "                        <td id=\"T_cc5f0_row11_col1\" class=\"data row11 col1\" >0.796</td>\n",
       "                        <td id=\"T_cc5f0_row11_col2\" class=\"data row11 col2\" >0.664</td>\n",
       "                        <td id=\"T_cc5f0_row11_col3\" class=\"data row11 col3\" >0.199</td>\n",
       "                        <td id=\"T_cc5f0_row11_col4\" class=\"data row11 col4\" >0.150</td>\n",
       "                        <td id=\"T_cc5f0_row11_col5\" class=\"data row11 col5\" >0.473</td>\n",
       "                        <td id=\"T_cc5f0_row11_col6\" class=\"data row11 col6\" >0.590</td>\n",
       "                        <td id=\"T_cc5f0_row11_col7\" class=\"data row11 col7\" >0.178</td>\n",
       "                        <td id=\"T_cc5f0_row11_col8\" class=\"data row11 col8\" >0.084</td>\n",
       "                        <td id=\"T_cc5f0_row11_col9\" class=\"data row11 col9\" >0.361</td>\n",
       "                        <td id=\"T_cc5f0_row11_col10\" class=\"data row11 col10\" >0.124</td>\n",
       "                        <td id=\"T_cc5f0_row11_col11\" class=\"data row11 col11\" >1.000</td>\n",
       "                        <td id=\"T_cc5f0_row11_col12\" class=\"data row11 col12\" >0.283</td>\n",
       "                        <td id=\"T_cc5f0_row11_col13\" class=\"data row11 col13\" >0.279</td>\n",
       "            </tr>\n",
       "            <tr>\n",
       "                        <th id=\"T_cc5f0_level0_row12\" class=\"row_heading level0 row12\" >Alone</th>\n",
       "                        <td id=\"T_cc5f0_row12_col0\" class=\"data row12 col0\" >0.206</td>\n",
       "                        <td id=\"T_cc5f0_row12_col1\" class=\"data row12 col1\" >0.139</td>\n",
       "                        <td id=\"T_cc5f0_row12_col2\" class=\"data row12 col2\" >0.307</td>\n",
       "                        <td id=\"T_cc5f0_row12_col3\" class=\"data row12 col3\" >0.170</td>\n",
       "                        <td id=\"T_cc5f0_row12_col4\" class=\"data row12 col4\" >0.583</td>\n",
       "                        <td id=\"T_cc5f0_row12_col5\" class=\"data row12 col5\" >0.275</td>\n",
       "                        <td id=\"T_cc5f0_row12_col6\" class=\"data row12 col6\" >0.143</td>\n",
       "                        <td id=\"T_cc5f0_row12_col7\" class=\"data row12 col7\" >0.063</td>\n",
       "                        <td id=\"T_cc5f0_row12_col8\" class=\"data row12 col8\" >0.691</td>\n",
       "                        <td id=\"T_cc5f0_row12_col9\" class=\"data row12 col9\" >0.321</td>\n",
       "                        <td id=\"T_cc5f0_row12_col10\" class=\"data row12 col10\" >0.317</td>\n",
       "                        <td id=\"T_cc5f0_row12_col11\" class=\"data row12 col11\" >0.283</td>\n",
       "                        <td id=\"T_cc5f0_row12_col12\" class=\"data row12 col12\" >1.000</td>\n",
       "                        <td id=\"T_cc5f0_row12_col13\" class=\"data row12 col13\" >0.060</td>\n",
       "            </tr>\n",
       "            <tr>\n",
       "                        <th id=\"T_cc5f0_level0_row13\" class=\"row_heading level0 row13\" >Ticket_34</th>\n",
       "                        <td id=\"T_cc5f0_row13_col0\" class=\"data row13 col0\" >0.202</td>\n",
       "                        <td id=\"T_cc5f0_row13_col1\" class=\"data row13 col1\" >0.339</td>\n",
       "                        <td id=\"T_cc5f0_row13_col2\" class=\"data row13 col2\" >0.052</td>\n",
       "                        <td id=\"T_cc5f0_row13_col3\" class=\"data row13 col3\" >0.116</td>\n",
       "                        <td id=\"T_cc5f0_row13_col4\" class=\"data row13 col4\" >0.092</td>\n",
       "                        <td id=\"T_cc5f0_row13_col5\" class=\"data row13 col5\" >0.164</td>\n",
       "                        <td id=\"T_cc5f0_row13_col6\" class=\"data row13 col6\" >0.217</td>\n",
       "                        <td id=\"T_cc5f0_row13_col7\" class=\"data row13 col7\" >0.206</td>\n",
       "                        <td id=\"T_cc5f0_row13_col8\" class=\"data row13 col8\" >0.143</td>\n",
       "                        <td id=\"T_cc5f0_row13_col9\" class=\"data row13 col9\" >0.012</td>\n",
       "                        <td id=\"T_cc5f0_row13_col10\" class=\"data row13 col10\" >0.152</td>\n",
       "                        <td id=\"T_cc5f0_row13_col11\" class=\"data row13 col11\" >0.279</td>\n",
       "                        <td id=\"T_cc5f0_row13_col12\" class=\"data row13 col12\" >0.060</td>\n",
       "                        <td id=\"T_cc5f0_row13_col13\" class=\"data row13 col13\" >1.000</td>\n",
       "            </tr>\n",
       "    </tbody></table>"
      ],
      "text/plain": [
       "<pandas.io.formats.style.Styler at 0x7f485329f7d0>"
      ]
     },
     "execution_count": 61,
     "metadata": {},
     "output_type": "execute_result"
    }
   ],
   "source": [
    "# let's look at the absolute of correlation of features of the training base\n",
    "corr_train = train.drop(['PassengerId', 'SibSp', 'Parch_SibSp'], axis = 1).corr().abs()\n",
    "corr_train.style.background_gradient(cmap='coolwarm').set_precision(3)"
   ]
  },
  {
   "cell_type": "code",
   "execution_count": 62,
   "id": "painted-coral",
   "metadata": {
    "execution": {
     "iopub.execute_input": "2021-04-26T03:59:24.544862Z",
     "iopub.status.busy": "2021-04-26T03:59:24.543925Z",
     "iopub.status.idle": "2021-04-26T03:59:24.547261Z",
     "shell.execute_reply": "2021-04-26T03:59:24.546682Z"
    },
    "papermill": {
     "duration": 0.094559,
     "end_time": "2021-04-26T03:59:24.547393",
     "exception": false,
     "start_time": "2021-04-26T03:59:24.452834",
     "status": "completed"
    },
    "tags": []
   },
   "outputs": [],
   "source": [
    "# Remove the insignificant variable with high correlation\n",
    "num_cols.remove('Num_family')"
   ]
  },
  {
   "cell_type": "markdown",
   "id": "capital-narrative",
   "metadata": {
    "papermill": {
     "duration": 0.085405,
     "end_time": "2021-04-26T03:59:24.718848",
     "exception": false,
     "start_time": "2021-04-26T03:59:24.633443",
     "status": "completed"
    },
    "tags": []
   },
   "source": [
    "# Model for train_valid"
   ]
  },
  {
   "cell_type": "code",
   "execution_count": 63,
   "id": "substantial-argentina",
   "metadata": {
    "execution": {
     "iopub.execute_input": "2021-04-26T03:59:24.896571Z",
     "iopub.status.busy": "2021-04-26T03:59:24.895963Z",
     "iopub.status.idle": "2021-04-26T03:59:24.903404Z",
     "shell.execute_reply": "2021-04-26T03:59:24.902791Z"
    },
    "papermill": {
     "duration": 0.09848,
     "end_time": "2021-04-26T03:59:24.903537",
     "exception": false,
     "start_time": "2021-04-26T03:59:24.805057",
     "status": "completed"
    },
    "tags": []
   },
   "outputs": [
    {
     "data": {
      "text/plain": [
       "array([[0., 0., 1., ..., 0., 0., 1.],\n",
       "       [1., 0., 0., ..., 0., 0., 0.],\n",
       "       [0., 0., 1., ..., 1., 0., 0.],\n",
       "       ...,\n",
       "       [0., 0., 1., ..., 1., 0., 0.],\n",
       "       [1., 0., 0., ..., 0., 0., 0.],\n",
       "       [0., 0., 1., ..., 0., 0., 1.]])"
      ]
     },
     "execution_count": 63,
     "metadata": {},
     "output_type": "execute_result"
    }
   ],
   "source": [
    "X_cat = OneHotEncoder(sparse = False).fit_transform(train[cat_cols].values)\n",
    "X_cat"
   ]
  },
  {
   "cell_type": "code",
   "execution_count": 64,
   "id": "economic-brave",
   "metadata": {
    "execution": {
     "iopub.execute_input": "2021-04-26T03:59:25.085073Z",
     "iopub.status.busy": "2021-04-26T03:59:25.084186Z",
     "iopub.status.idle": "2021-04-26T03:59:25.091474Z",
     "shell.execute_reply": "2021-04-26T03:59:25.091900Z"
    },
    "papermill": {
     "duration": 0.099945,
     "end_time": "2021-04-26T03:59:25.092085",
     "exception": false,
     "start_time": "2021-04-26T03:59:24.992140",
     "status": "completed"
    },
    "tags": []
   },
   "outputs": [
    {
     "data": {
      "text/plain": [
       "array([[0., 0., 1., ..., 0., 0., 1.],\n",
       "       [0., 0., 1., ..., 1., 0., 0.],\n",
       "       [0., 1., 0., ..., 0., 1., 0.],\n",
       "       ...,\n",
       "       [0., 0., 1., ..., 0., 0., 1.],\n",
       "       [0., 0., 1., ..., 0., 0., 1.],\n",
       "       [0., 0., 1., ..., 0., 0., 1.]])"
      ]
     },
     "execution_count": 64,
     "metadata": {},
     "output_type": "execute_result"
    }
   ],
   "source": [
    "Y_cat = OneHotEncoder(sparse = False).fit_transform(test[cat_cols].values)\n",
    "Y_cat"
   ]
  },
  {
   "cell_type": "code",
   "execution_count": 65,
   "id": "interested-sequence",
   "metadata": {
    "execution": {
     "iopub.execute_input": "2021-04-26T03:59:25.316463Z",
     "iopub.status.busy": "2021-04-26T03:59:25.314375Z",
     "iopub.status.idle": "2021-04-26T03:59:25.320063Z",
     "shell.execute_reply": "2021-04-26T03:59:25.319531Z"
    },
    "papermill": {
     "duration": 0.120301,
     "end_time": "2021-04-26T03:59:25.320200",
     "exception": false,
     "start_time": "2021-04-26T03:59:25.199899",
     "status": "completed"
    },
    "tags": []
   },
   "outputs": [],
   "source": [
    "# Let's combine data from features of lists for model\n",
    "X = np.hstack([train[num_cols], train[bin_cols].values, X_cat])\n",
    "Y = train['Survived'].values\n",
    "\n",
    "PassengerId = test['PassengerId']\n",
    "test = np.hstack([test[num_cols], test[bin_cols].values, Y_cat])"
   ]
  },
  {
   "cell_type": "code",
   "execution_count": 66,
   "id": "narrow-administration",
   "metadata": {
    "execution": {
     "iopub.execute_input": "2021-04-26T03:59:25.504787Z",
     "iopub.status.busy": "2021-04-26T03:59:25.504113Z",
     "iopub.status.idle": "2021-04-26T03:59:25.506566Z",
     "shell.execute_reply": "2021-04-26T03:59:25.507193Z"
    },
    "papermill": {
     "duration": 0.095099,
     "end_time": "2021-04-26T03:59:25.507365",
     "exception": false,
     "start_time": "2021-04-26T03:59:25.412266",
     "status": "completed"
    },
    "tags": []
   },
   "outputs": [],
   "source": [
    "# We divide the training set into training and validation\n",
    "X_train, X_valid, y_train, y_valid = train_test_split(X, Y, test_size=0.2, random_state=42, shuffle = True)"
   ]
  },
  {
   "cell_type": "code",
   "execution_count": 67,
   "id": "associate-afghanistan",
   "metadata": {
    "execution": {
     "iopub.execute_input": "2021-04-26T03:59:25.684835Z",
     "iopub.status.busy": "2021-04-26T03:59:25.684178Z",
     "iopub.status.idle": "2021-04-26T03:59:26.720370Z",
     "shell.execute_reply": "2021-04-26T03:59:26.719715Z"
    },
    "papermill": {
     "duration": 1.125508,
     "end_time": "2021-04-26T03:59:26.720520",
     "exception": false,
     "start_time": "2021-04-26T03:59:25.595012",
     "status": "completed"
    },
    "tags": []
   },
   "outputs": [
    {
     "data": {
      "text/plain": [
       "RandomForestClassifier(min_samples_leaf=2, min_samples_split=8,\n",
       "                       n_estimators=500, random_state=1)"
      ]
     },
     "execution_count": 67,
     "metadata": {},
     "output_type": "execute_result"
    }
   ],
   "source": [
    "# Set and train the model\n",
    "model = RandomForestClassifier(random_state = 1, n_estimators=500, min_samples_split=8, min_samples_leaf=2)\n",
    "\n",
    "model.fit(X_train, y_train)"
   ]
  },
  {
   "cell_type": "code",
   "execution_count": 68,
   "id": "enclosed-family",
   "metadata": {
    "execution": {
     "iopub.execute_input": "2021-04-26T03:59:26.905006Z",
     "iopub.status.busy": "2021-04-26T03:59:26.904341Z",
     "iopub.status.idle": "2021-04-26T03:59:27.026876Z",
     "shell.execute_reply": "2021-04-26T03:59:27.026317Z"
    },
    "papermill": {
     "duration": 0.217817,
     "end_time": "2021-04-26T03:59:27.027061",
     "exception": false,
     "start_time": "2021-04-26T03:59:26.809244",
     "status": "completed"
    },
    "tags": []
   },
   "outputs": [],
   "source": [
    "# Predicting the values of the validation base\n",
    "Y_predict = model.predict(X_valid)\n",
    "Y_predict_prob = model.predict_proba(X_valid)[:,1]"
   ]
  },
  {
   "cell_type": "markdown",
   "id": "heavy-documentation",
   "metadata": {
    "papermill": {
     "duration": 0.087453,
     "end_time": "2021-04-26T03:59:27.203157",
     "exception": false,
     "start_time": "2021-04-26T03:59:27.115704",
     "status": "completed"
    },
    "tags": []
   },
   "source": [
    "# Preliminary results"
   ]
  },
  {
   "cell_type": "code",
   "execution_count": 69,
   "id": "formal-exhibition",
   "metadata": {
    "execution": {
     "iopub.execute_input": "2021-04-26T03:59:27.385369Z",
     "iopub.status.busy": "2021-04-26T03:59:27.384671Z",
     "iopub.status.idle": "2021-04-26T03:59:27.541806Z",
     "shell.execute_reply": "2021-04-26T03:59:27.542313Z"
    },
    "papermill": {
     "duration": 0.251801,
     "end_time": "2021-04-26T03:59:27.542480",
     "exception": false,
     "start_time": "2021-04-26T03:59:27.290679",
     "status": "completed"
    },
    "tags": []
   },
   "outputs": [
    {
     "data": {
      "image/png": "[encoded data removed]",
      "text/plain": [
       "<Figure size 432x288 with 1 Axes>"
      ]
     },
     "metadata": {
      "needs_background": "light"
     },
     "output_type": "display_data"
    }
   ],
   "source": [
    "# Building a ROC curve\n",
    "fpr, tpr, threshold = roc_curve(y_valid, Y_predict_prob)\n",
    "roc_auc = roc_auc_score(y_valid, Y_predict_prob)\n",
    "\n",
    "plt.figure()\n",
    "plt.plot([0, 1], label='Baseline', linestyle='--')\n",
    "plt.plot(fpr, tpr, label = 'Regression')\n",
    "plt.title('Logistic Regression ROC AUC = %0.3f' % roc_auc)\n",
    "plt.ylabel('True Positive Rate')\n",
    "plt.xlabel('False Positive Rate')\n",
    "plt.legend(loc = 'lower right')\n",
    "plt.show()"
   ]
  },
  {
   "cell_type": "code",
   "execution_count": 70,
   "id": "absent-principal",
   "metadata": {
    "execution": {
     "iopub.execute_input": "2021-04-26T03:59:27.724296Z",
     "iopub.status.busy": "2021-04-26T03:59:27.723551Z",
     "iopub.status.idle": "2021-04-26T03:59:28.065885Z",
     "shell.execute_reply": "2021-04-26T03:59:28.066386Z"
    },
    "papermill": {
     "duration": 0.434489,
     "end_time": "2021-04-26T03:59:28.066550",
     "exception": false,
     "start_time": "2021-04-26T03:59:27.632061",
     "status": "completed"
    },
    "tags": []
   },
   "outputs": [
    {
     "data": {
      "image/png": "[encoded data removed]",
      "text/plain": [
       "<Figure size 432x432 with 2 Axes>"
      ]
     },
     "metadata": {
      "needs_background": "light"
     },
     "output_type": "display_data"
    }
   ],
   "source": [
    "# Let's display confusion_matrix\n",
    "show_confusion_matrix(y_valid, Y_predict)"
   ]
  },
  {
   "cell_type": "code",
   "execution_count": 71,
   "id": "dated-credit",
   "metadata": {
    "execution": {
     "iopub.execute_input": "2021-04-26T03:59:28.251695Z",
     "iopub.status.busy": "2021-04-26T03:59:28.251079Z",
     "iopub.status.idle": "2021-04-26T03:59:28.266414Z",
     "shell.execute_reply": "2021-04-26T03:59:28.265768Z"
    },
    "papermill": {
     "duration": 0.110043,
     "end_time": "2021-04-26T03:59:28.266548",
     "exception": false,
     "start_time": "2021-04-26T03:59:28.156505",
     "status": "completed"
    },
    "tags": []
   },
   "outputs": [
    {
     "data": {
      "text/html": [
       "<div>\n",
       "<style scoped>\n",
       "    .dataframe tbody tr th:only-of-type {\n",
       "        vertical-align: middle;\n",
       "    }\n",
       "\n",
       "    .dataframe tbody tr th {\n",
       "        vertical-align: top;\n",
       "    }\n",
       "\n",
       "    .dataframe thead th {\n",
       "        text-align: right;\n",
       "    }\n",
       "</style>\n",
       "<table border=\"1\" class=\"dataframe\">\n",
       "  <thead>\n",
       "    <tr style=\"text-align: right;\">\n",
       "      <th></th>\n",
       "      <th>Value</th>\n",
       "      <th>Description</th>\n",
       "    </tr>\n",
       "  </thead>\n",
       "  <tbody>\n",
       "    <tr>\n",
       "      <th>Positive, P</th>\n",
       "      <td>69.000000</td>\n",
       "      <td>default</td>\n",
       "    </tr>\n",
       "    <tr>\n",
       "      <th>Negative, N</th>\n",
       "      <td>109.000000</td>\n",
       "      <td>non-default</td>\n",
       "    </tr>\n",
       "    <tr>\n",
       "      <th>True Positive, TP</th>\n",
       "      <td>49.000000</td>\n",
       "      <td>correctly identified default</td>\n",
       "    </tr>\n",
       "    <tr>\n",
       "      <th>True Negative, TN</th>\n",
       "      <td>95.000000</td>\n",
       "      <td>correctly identified non-default</td>\n",
       "    </tr>\n",
       "    <tr>\n",
       "      <th>False Positive, FP</th>\n",
       "      <td>14.000000</td>\n",
       "      <td>incorrectly identified default</td>\n",
       "    </tr>\n",
       "    <tr>\n",
       "      <th>False Negative, FN</th>\n",
       "      <td>20.000000</td>\n",
       "      <td>incorrectly identified non-default</td>\n",
       "    </tr>\n",
       "    <tr>\n",
       "      <th>Accuracy</th>\n",
       "      <td>0.808989</td>\n",
       "      <td>Accuracy=(TP+TN)/(P+N)</td>\n",
       "    </tr>\n",
       "    <tr>\n",
       "      <th>Precision</th>\n",
       "      <td>0.777778</td>\n",
       "      <td>Precision = TP/(TP+FP)</td>\n",
       "    </tr>\n",
       "    <tr>\n",
       "      <th>Recall</th>\n",
       "      <td>0.710145</td>\n",
       "      <td>Recall = TP/P</td>\n",
       "    </tr>\n",
       "    <tr>\n",
       "      <th>F1-score</th>\n",
       "      <td>0.742424</td>\n",
       "      <td>Harmonical mean of Precision и Recall</td>\n",
       "    </tr>\n",
       "    <tr>\n",
       "      <th>ROC_AUC</th>\n",
       "      <td>0.857931</td>\n",
       "      <td>ROC AUC Score</td>\n",
       "    </tr>\n",
       "  </tbody>\n",
       "</table>\n",
       "</div>"
      ],
      "text/plain": [
       "                         Value                            Description\n",
       "Positive, P          69.000000                                default\n",
       "Negative, N         109.000000                            non-default\n",
       "True Positive, TP    49.000000           correctly identified default\n",
       "True Negative, TN    95.000000       correctly identified non-default\n",
       "False Positive, FP   14.000000         incorrectly identified default\n",
       "False Negative, FN   20.000000     incorrectly identified non-default\n",
       "Accuracy              0.808989                 Accuracy=(TP+TN)/(P+N)\n",
       "Precision             0.777778                 Precision = TP/(TP+FP)\n",
       "Recall                0.710145                          Recall = TP/P\n",
       "F1-score              0.742424  Harmonical mean of Precision и Recall\n",
       "ROC_AUC               0.857931                          ROC AUC Score"
      ]
     },
     "metadata": {},
     "output_type": "display_data"
    }
   ],
   "source": [
    "# Output the quality metrics of the model\n",
    "all_metrics(y_valid, Y_predict, Y_predict_prob)"
   ]
  },
  {
   "cell_type": "markdown",
   "id": "polish-chance",
   "metadata": {
    "papermill": {
     "duration": 0.091739,
     "end_time": "2021-04-26T03:59:28.449346",
     "exception": false,
     "start_time": "2021-04-26T03:59:28.357607",
     "status": "completed"
    },
    "tags": []
   },
   "source": [
    "# Model for train_test"
   ]
  },
  {
   "cell_type": "code",
   "execution_count": 72,
   "id": "appointed-black",
   "metadata": {
    "execution": {
     "iopub.execute_input": "2021-04-26T03:59:28.638154Z",
     "iopub.status.busy": "2021-04-26T03:59:28.637495Z",
     "iopub.status.idle": "2021-04-26T03:59:29.868026Z",
     "shell.execute_reply": "2021-04-26T03:59:29.867464Z"
    },
    "papermill": {
     "duration": 1.326948,
     "end_time": "2021-04-26T03:59:29.868251",
     "exception": false,
     "start_time": "2021-04-26T03:59:28.541303",
     "status": "completed"
    },
    "tags": []
   },
   "outputs": [
    {
     "data": {
      "text/plain": [
       "RandomForestClassifier(min_samples_leaf=2, min_samples_split=8,\n",
       "                       n_estimators=500, random_state=1)"
      ]
     },
     "execution_count": 72,
     "metadata": {},
     "output_type": "execute_result"
    }
   ],
   "source": [
    "# Set and train the model\n",
    "main_model = RandomForestClassifier(random_state = 1, n_estimators=500, min_samples_split=8, min_samples_leaf=2)\n",
    "\n",
    "main_model.fit(X, Y)"
   ]
  },
  {
   "cell_type": "code",
   "execution_count": 73,
   "id": "complimentary-healing",
   "metadata": {
    "execution": {
     "iopub.execute_input": "2021-04-26T03:59:30.058715Z",
     "iopub.status.busy": "2021-04-26T03:59:30.058090Z",
     "iopub.status.idle": "2021-04-26T03:59:30.219363Z",
     "shell.execute_reply": "2021-04-26T03:59:30.219900Z"
    },
    "papermill": {
     "duration": 0.260201,
     "end_time": "2021-04-26T03:59:30.220092",
     "exception": false,
     "start_time": "2021-04-26T03:59:29.959891",
     "status": "completed"
    },
    "tags": []
   },
   "outputs": [],
   "source": [
    "# Predicting the values of the testing base\n",
    "y_pred_test = main_model.predict(test)\n",
    "y_pred_prob_test = main_model.predict_proba(test)[:,1]"
   ]
  },
  {
   "cell_type": "markdown",
   "id": "federal-concept",
   "metadata": {
    "papermill": {
     "duration": 0.092019,
     "end_time": "2021-04-26T03:59:30.403983",
     "exception": false,
     "start_time": "2021-04-26T03:59:30.311964",
     "status": "completed"
    },
    "tags": []
   },
   "source": [
    "# Submission"
   ]
  },
  {
   "cell_type": "code",
   "execution_count": 74,
   "id": "functional-storm",
   "metadata": {
    "execution": {
     "iopub.execute_input": "2021-04-26T03:59:30.591244Z",
     "iopub.status.busy": "2021-04-26T03:59:30.590552Z",
     "iopub.status.idle": "2021-04-26T03:59:30.606915Z",
     "shell.execute_reply": "2021-04-26T03:59:30.607477Z"
    },
    "papermill": {
     "duration": 0.111829,
     "end_time": "2021-04-26T03:59:30.607641",
     "exception": false,
     "start_time": "2021-04-26T03:59:30.495812",
     "status": "completed"
    },
    "tags": []
   },
   "outputs": [
    {
     "data": {
      "text/html": [
       "<div>\n",
       "<style scoped>\n",
       "    .dataframe tbody tr th:only-of-type {\n",
       "        vertical-align: middle;\n",
       "    }\n",
       "\n",
       "    .dataframe tbody tr th {\n",
       "        vertical-align: top;\n",
       "    }\n",
       "\n",
       "    .dataframe thead th {\n",
       "        text-align: right;\n",
       "    }\n",
       "</style>\n",
       "<table border=\"1\" class=\"dataframe\">\n",
       "  <thead>\n",
       "    <tr style=\"text-align: right;\">\n",
       "      <th></th>\n",
       "      <th>PassengerId</th>\n",
       "      <th>Survived</th>\n",
       "    </tr>\n",
       "  </thead>\n",
       "  <tbody>\n",
       "    <tr>\n",
       "      <th>0</th>\n",
       "      <td>892</td>\n",
       "      <td>0</td>\n",
       "    </tr>\n",
       "    <tr>\n",
       "      <th>1</th>\n",
       "      <td>893</td>\n",
       "      <td>0</td>\n",
       "    </tr>\n",
       "    <tr>\n",
       "      <th>2</th>\n",
       "      <td>894</td>\n",
       "      <td>0</td>\n",
       "    </tr>\n",
       "    <tr>\n",
       "      <th>3</th>\n",
       "      <td>895</td>\n",
       "      <td>0</td>\n",
       "    </tr>\n",
       "    <tr>\n",
       "      <th>4</th>\n",
       "      <td>896</td>\n",
       "      <td>1</td>\n",
       "    </tr>\n",
       "    <tr>\n",
       "      <th>5</th>\n",
       "      <td>897</td>\n",
       "      <td>0</td>\n",
       "    </tr>\n",
       "    <tr>\n",
       "      <th>6</th>\n",
       "      <td>898</td>\n",
       "      <td>1</td>\n",
       "    </tr>\n",
       "    <tr>\n",
       "      <th>7</th>\n",
       "      <td>899</td>\n",
       "      <td>0</td>\n",
       "    </tr>\n",
       "    <tr>\n",
       "      <th>8</th>\n",
       "      <td>900</td>\n",
       "      <td>1</td>\n",
       "    </tr>\n",
       "    <tr>\n",
       "      <th>9</th>\n",
       "      <td>901</td>\n",
       "      <td>0</td>\n",
       "    </tr>\n",
       "  </tbody>\n",
       "</table>\n",
       "</div>"
      ],
      "text/plain": [
       "   PassengerId  Survived\n",
       "0          892         0\n",
       "1          893         0\n",
       "2          894         0\n",
       "3          895         0\n",
       "4          896         1\n",
       "5          897         0\n",
       "6          898         1\n",
       "7          899         0\n",
       "8          900         1\n",
       "9          901         0"
      ]
     },
     "execution_count": 74,
     "metadata": {},
     "output_type": "execute_result"
    }
   ],
   "source": [
    "my_gender_submission = pd.DataFrame({'PassengerId': PassengerId,\n",
    "                              'Survived': y_pred_test})\n",
    "my_gender_submission.to_csv('submission.csv', index=False)\n",
    "\n",
    "my_gender_submission.head(10)"
   ]
  },
  {
   "cell_type": "code",
   "execution_count": null,
   "id": "patient-ending",
   "metadata": {
    "papermill": {
     "duration": 0.093483,
     "end_time": "2021-04-26T03:59:30.793694",
     "exception": false,
     "start_time": "2021-04-26T03:59:30.700211",
     "status": "completed"
    },
    "tags": []
   },
   "outputs": [],
   "source": []
  }
 ],
 "metadata": {
  "kernelspec": {
   "display_name": "Python 3",
   "language": "python",
   "name": "python3"
  },
  "language_info": {
   "codemirror_mode": {
    "name": "ipython",
    "version": 3
   },
   "file_extension": ".py",
   "mimetype": "text/x-python",
   "name": "python",
   "nbconvert_exporter": "python",
   "pygments_lexer": "ipython3",
   "version": "3.7.10"
  },
  "papermill": {
   "default_parameters": {},
   "duration": 34.000336,
   "end_time": "2021-04-26T03:59:32.546161",
   "environment_variables": {},
   "exception": null,
   "input_path": "__notebook__.ipynb",
   "output_path": "__notebook__.ipynb",
   "parameters": {},
   "start_time": "2021-04-26T03:58:58.545825",
   "version": "2.3.3"
  }
 },
 "nbformat": 4,
 "nbformat_minor": 5
}
